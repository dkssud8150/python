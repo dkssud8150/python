{
 "cells": [
  {
   "cell_type": "markdown",
   "metadata": {},
   "source": [
    "# 2장 고급 스크레이핑\n",
    "2-1 로그인이 필요한 사이트에서 다운받기"
   ]
  },
  {
   "cell_type": "markdown",
   "metadata": {},
   "source": [
    "#### login-getmileage"
   ]
  },
  {
   "cell_type": "code",
   "execution_count": 2,
   "metadata": {},
   "outputs": [
    {
     "name": "stdout",
     "output_type": "stream",
     "text": [
      "마일리지: 2,000\n",
      "이코인: 0\n"
     ]
    }
   ],
   "source": [
    "# 로그인을 위한 모듈 추출하기\n",
    "import requests\n",
    "from bs4 import BeautifulSoup\n",
    "from urllib.parse import urljoin\n",
    "\n",
    "# 아이디와 비밀번호 지정하기 -- (*1)\n",
    "USER = \"dkssud8150\"\n",
    "PASS = \"dkssud881!\"\n",
    "\n",
    "# 세션 시작하기 -- (*2)\n",
    "session = requests.session()\n",
    "# rsquests.session() = session을 생성\n",
    "\n",
    "# 로그인하기 -- (*3)\n",
    "login_info = { # parameter 형태 => 자료형 이름 = {\"param1\":\"value1\",\"param2\":\"value2\",...}\n",
    "    \"m_id\": USER, # 아이디 지정, html에서 'name:m_id'로 된 것을 불러옴 = post형식\n",
    "    \"m_passwd\": PASS # 비밀번호 지정\n",
    "}\n",
    "# parameter로 직접 넣어서 보내기 => url=\"http://www.naver.com?a=b&bb=123\", res=requests.get(url)\n",
    "# dictionary 사용 => paramDict = {\"a\":\"b\",\"bb\":123} , url=\"http://www.naver.com\", res=requests.get(url, params=paramDict)\n",
    "\n",
    "url_login = \"https://www.hanbit.co.kr/member/login_proc.php\"\n",
    "res = session.post(url_login, data=login_info) # POST방식으로 된 데이터 요청, post로 넣을때는 파라미터를 넣지 않아서 dictionary 사용해야 함\n",
    "# data를 딕셔너리 구조로 유지하면서 문자열로 바꿔서 전달해야 한다. 이때 사용하는 것이 json 모듈 => \n",
    "# json.dumps() {s를 빼먹으면 오류남} = json 포멧 데이터로 바꿔서 파이썬에서 계속 작업하기 위함.\n",
    "res.raise_for_status() # 오류가 발생하면 예외가 발생합니다.\n",
    "# res.request = 내가 보낸 request 객체에 접근 가능, res.status_code = 응답 코드, \n",
    "# res.raise_for_status = 200 ok 코드가 아닌 경우 에러 발동, res.json = json response일 경우 딕셔너리 타입으로 바로 변환\n",
    "\n",
    "# 마이페이지에 접근하기 -- (*4)\n",
    "url_mypage = \"https://www.hanbit.co.kr/myhanbit/myhanbit.html\" # 마이페이지 주소\n",
    "res = session.get(url_mypage)\n",
    "res.raise_for_status()\n",
    "\n",
    "# 마일리지와 이코인 가져오기 -- (*5)\n",
    "soup = BeautifulSoup(res.text, \"html.parser\")\n",
    "mileage = soup.select_one(\".mileage_section1 span\").get_text() \n",
    "# get_text = 현재 태그를 포함하여 모든 하위 태그를 제거하고 유니코드 텍스트만 들어있는 문자열을 반환\n",
    "ecoin = soup.select_one(\".mileage_section2 span\").get_text()\n",
    "print(\"마일리지: \" + mileage)\n",
    "print(\"이코인: \" + ecoin)"
   ]
  },
  {
   "cell_type": "markdown",
   "metadata": {},
   "source": [
    "#### requests-test"
   ]
  },
  {
   "cell_type": "code",
   "execution_count": 3,
   "metadata": {},
   "outputs": [
    {
     "name": "stdout",
     "output_type": "stream",
     "text": [
      "2020/08/24 04:39:30\n",
      "b'2020/08/24 04:39:30'\n"
     ]
    }
   ],
   "source": [
    "# 데이터 가져오기\n",
    "import requests\n",
    "r = requests.get(\"http://api.aoikujira.com/time/get.php\")\n",
    "\n",
    "# 텍스트 형식으로 데이터 추출하기\n",
    "text = r.text\n",
    "print(text) # 일반 텍스트\n",
    "\n",
    "# 바이너리 형식으로 데이터 추출하기\n",
    "bin = r.content\n",
    "print(bin) # b''형태 => b''는 파이썬에서 바이너리라는 것을 나타냄"
   ]
  },
  {
   "cell_type": "markdown",
   "metadata": {},
   "source": [
    "#### request-png"
   ]
  },
  {
   "cell_type": "code",
   "execution_count": 4,
   "metadata": {},
   "outputs": [
    {
     "name": "stdout",
     "output_type": "stream",
     "text": [
      "saved\n"
     ]
    }
   ],
   "source": [
    "# 바이너리를 활용해서 바이너리 데이터인 이미지를 받아 저장하는 예제\n",
    "# 이미지 데이터 추출하기\n",
    "import requests\n",
    "r = requests.get(\"http://wikibook.co.kr/wikibook.png\")\n",
    "\n",
    "# 바이너리 형식으로 데이터 저장하기\n",
    "with open(\"test.png\", \"wb\") as f: # 쓰기 형태의 바이너리 파일로 연다.\n",
    "    f.write(r.content) # content = 바이트로 리턴함\n",
    "    \n",
    "print(\"saved\")"
   ]
  },
  {
   "cell_type": "markdown",
   "metadata": {},
   "source": [
    "# 2장 고급 스크레이핑\n",
    "2-2 웹 브라우저를 이용한 스크레이핑"
   ]
  },
  {
   "cell_type": "code",
   "execution_count": null,
   "metadata": {},
   "outputs": [],
   "source": []
  },
  {
   "cell_type": "markdown",
   "metadata": {},
   "source": [
    "# 2장 고급 스크레이핑\n",
    "2-3 웹 API로 데이터 추출하기"
   ]
  },
  {
   "cell_type": "markdown",
   "metadata": {},
   "source": [
    "#### api-weather"
   ]
  },
  {
   "cell_type": "code",
   "execution_count": 20,
   "metadata": {},
   "outputs": [
    {
     "name": "stdout",
     "output_type": "stream",
     "text": [
      "+ 도시 = Seoul\n",
      "| 날씨 = overcast clouds\n",
      "| 최저 기온 = 23.0 ºc\n",
      "| 최고 기온 = 25.0 ºc\n",
      "| 습도 = 83\n",
      "| 기압 = 1006\n",
      "| 풍향 = 86\n",
      "| 풍속 = 0.69\n",
      "\n",
      "+ 도시 = Tokyo\n",
      "| 날씨 = shower rain\n",
      "| 최저 기온 = 25.0 ºc\n",
      "| 최고 기온 = 26.110000000000014 ºc\n",
      "| 습도 = 94\n",
      "| 기압 = 1007\n",
      "| 풍향 = 40\n",
      "| 풍속 = 3.6\n",
      "\n",
      "+ 도시 = New York\n",
      "| 날씨 = few clouds\n",
      "| 최저 기온 = 28.890000000000043 ºc\n",
      "| 최고 기온 = 31.110000000000014 ºc\n",
      "| 습도 = 62\n",
      "| 기압 = 1017\n",
      "| 풍향 = 170\n",
      "| 풍속 = 4.1\n",
      "\n"
     ]
    }
   ],
   "source": [
    "import requests\n",
    "import json\n",
    "\n",
    "# API 키를 지정합니다. 자신의 키로 변경해서 사용해주세요 -- (*1)\n",
    "apikey = \"bd3b4fc8e2e1a5186b7049905ced6afb\"\n",
    "\n",
    "# 날씨를 확인할 도시 지정하기 -- (*2)\n",
    "cities = [\"Seoul,KR\", \"Tokyo,JP\", \"New York,US\"] # [도시이름, 국가이름]\n",
    "\n",
    "# API 지정 -- (*3)\n",
    "api = \"http://api.openweathermap.org/data/2.5/weather?q={city}&APPID={key}\" \n",
    "# api의 기본적인 형태를 지정\n",
    "# 매개변수 q에 도시이름, appid에 api키를 지정\n",
    "# 파이썬에서는 \"xxx{name}xxx\"와 같은 형식으로 문자열을 만들고 format() 메서드로 {name} 부분을 다른 문자열로 대체할 수 있습니다.\n",
    "\n",
    "# 켈빈 온도를 섭씨 온도로 변환하는 함수 -- (*4)\n",
    "k2c = lambda k: k - 273.15\n",
    "\n",
    "# 각 도시의 정보 추출하기 --(*5)\n",
    "for name in cities: \n",
    "    # API의 URL 구성하기 -- (*6)\n",
    "    url = api.format(city=name, key=apikey)\n",
    "    # API에 요청을 보내 데이터 추출하기\n",
    "    r = requests.get(url)\n",
    "    \n",
    "    # 결과를 JSON 형식을 파이썬 데이터로 변환하기 -- (*7)\n",
    "    data = json.loads(r.text)\n",
    "    \n",
    "    # 결과 출력하기 -- (*8)\n",
    "    print(\"+ 도시 =\", data[\"name\"])\n",
    "    print(\"| 날씨 =\", data[\"weather\"][0][\"description\"])\n",
    "    print(\"| 최저 기온 =\", k2c(data[\"main\"][\"temp_min\"]),\"ºc\")\n",
    "    print(\"| 최고 기온 =\", k2c(data[\"main\"][\"temp_max\"]),\"ºc\")\n",
    "    print(\"| 습도 =\", data[\"main\"][\"humidity\"])\n",
    "    print(\"| 기압 =\", data[\"main\"][\"pressure\"])\n",
    "    print(\"| 풍향 =\", data[\"wind\"][\"deg\"])\n",
    "    print(\"| 풍속 =\", data[\"wind\"][\"speed\"])\n",
    "    print(\"\")"
   ]
  },
  {
   "cell_type": "code",
   "execution_count": null,
   "metadata": {},
   "outputs": [],
   "source": []
  }
 ],
 "metadata": {
  "kernelspec": {
   "display_name": "Python 3",
   "language": "python",
   "name": "python3"
  },
  "language_info": {
   "codemirror_mode": {
    "name": "ipython",
    "version": 3
   },
   "file_extension": ".py",
   "mimetype": "text/x-python",
   "name": "python",
   "nbconvert_exporter": "python",
   "pygments_lexer": "ipython3",
   "version": "3.8.3"
  }
 },
 "nbformat": 4,
 "nbformat_minor": 4
}
