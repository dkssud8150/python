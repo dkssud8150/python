{
 "cells": [
  {
   "cell_type": "code",
   "execution_count": 8,
   "metadata": {},
   "outputs": [
    {
     "name": "stdout",
     "output_type": "stream",
     "text": [
      "- 영어\n",
      "- 영어\n",
      "- 1889년\n",
      "- 7월 13일\n",
      "- 1984년\n",
      "- 3월 20일\n",
      "- 미국\n",
      "- 프로 야구\n",
      "- 메이저 리그 베이스볼\n",
      "- 스핏볼\n",
      "- 투수\n",
      "- 아메리칸 리그\n",
      "- 필라델피아 애슬레틱스\n",
      "- 클리블랜드 인디언스\n",
      "- 워싱턴 세너터스\n",
      "- 뉴욕 양키스\n",
      "- 이닝\n",
      "- 완투\n",
      "- 완봉\n",
      "- 평균자책점\n",
      "- 야구 명예의 전당\n"
     ]
    }
   ],
   "source": [
    "# sel-Stan Coveleski\n",
    "\n",
    "from bs4 import BeautifulSoup\n",
    "import urllib.request as req\n",
    "\n",
    "url = \"https://ko.wikipedia.org/wiki/%EC%8A%A4%ED%83%A0_%EC%BD%94%EB%B2%A8%EB%A0%88%EC%8A%A4%ED%82%A4\"\n",
    "res = req.urlopen(url)\n",
    "soup = BeautifulSoup(res, \"html.parser\")\n",
    "\n",
    "a_list = soup.select(\"#mw-content-text > div.mw-parser-output > p:nth-child(3) > a\")\n",
    "# css 선택자 => \n",
    "## 선택자 기본 서식 =>\n",
    "# * = 모든 요소를 선택, <요소 이름> = 요소 이름을 기반으로 선택, .<클래스 이름> = 클래스 이름을 기반으로 선택,\n",
    "# #<id 이름> = id 속성을 기반으로 선택\n",
    "## 선택자들의 관계를 지정하는 서식 =>\n",
    "# <선택자>, <선택자> = 쉼표로 구분된 여러 개의 선택자 모두 선택, <선택자> <선택자> = 앞 선택자의 후손 중 뒤 선택자에 해당하는 모든 것을 선택\n",
    "# <선택자> > <선택자> = 앞 선택자의 자손 중 뒤 선택자에 해당하는 모든 것을 선택, <선택자> + <선택자> = 같은 계층에서 바로 뒤에 있는 요소 선택\n",
    "# <선택자1> - <선택자2> = 선택자1로부터 선택자2까지의 요소 모두 선택\n",
    "##  선택자 속성을 기반으로 지정하는 서식 =>\n",
    "# <요소>[<속성>] = 해당 속성을 가진 요소를 선택, <요소>[<속성>=<값>] = 해당 속성의 값이 지정한 값과 같은 요소를 선택\n",
    "# <요소>[<속성>~=<값>] = 해당 속성의 값이 지정한 값을 단어로 포함하고 있으면 선택, <요소>[<속성>^=<값>] = 해당 속성의 값이 지정한 값으로 시작하면 선택\n",
    "# <요소>[<속성>|=<값>] = 해당 속성의 값으로 시작하면 선택, <요소>[<속성>$=<값>] = 해당 속성의 값이 지정한 값으로 끝나면 선택\n",
    "# <요소>[<속성>*=<값>] = 해당 속성의 값이 지정한 값을 포함하고 있으면 선택\n",
    "## 위치 또는 상태를 지정하는 서식 =>\n",
    "# <요소>: root = 루트 요소, <요소>:nth-child(n) = n번째 자식 요소, <요소>:nth-last-child(n) = 뒤에서부터 n번째 자식 요소,\n",
    "# <요소>:nth-of-type(n) = n번쨰 해당 종류의 요소, <요소>:first-child = 첫 번쨰 자식 요소, <요소>:last-child = 마지막 번쨰 자식 요소,\n",
    "# <요소>:first-of-type = 첫 번째 해당 종류의 요소, <요소>:last-of-type = 마지막 번째 해당 종류의 요소, <요소>:only-child = 자식으로 유일한 요소\n",
    "# <요소>:only-of-type = 자식으로 유일한 종류의 요소, <요소>:empty = 내용이 없는 요소, <요소>:lang(code) = 특정 언어로 code를 지정한 요소,\n",
    "# <요소>:not(s) = s 이외의 요소, <요소>:enabled = 활성화된 UI요소, <요소>:disabled = 비활성화된 UI요소, <요소>:checked = 체크돼 있는 UI요소 선택\n",
    "\n",
    "\n",
    "for a in a_list:\n",
    "    name = a.string\n",
    "    print(\"-\",name)"
   ]
  },
  {
   "cell_type": "code",
   "execution_count": 14,
   "metadata": {},
   "outputs": [
    {
     "name": "stdout",
     "output_type": "stream",
     "text": [
      "Numbers\n",
      "Numbers\n",
      "Numbers\n",
      "Numbers\n",
      "Numbers\n",
      "Numbers\n",
      "Numbers\n",
      "Numbers\n",
      "Numbers\n",
      "Numbers\n"
     ]
    }
   ],
   "source": [
    "# set-books\n",
    "\n",
    "from bs4 import BeautifulSoup\n",
    "books = \"\"\"\n",
    "<html>\n",
    "    <body>\n",
    "        <ul id=\"bible\">\n",
    "            <li id=\"ge\">Genesis</li>\n",
    "            <li id=\"ex\">Exodus</li>\n",
    "            <li id=\"le\">Leviticus</li>\n",
    "            <li id=\"nu\">Numbers</li>\n",
    "            <li id=\"de\">Deuteronomy</li>\n",
    "        </ul>\n",
    "    </body>\n",
    "</html>\n",
    "\"\"\"\n",
    "\n",
    "\n",
    "soup = BeautifulSoup(books, \"html.parser\")\n",
    "\n",
    "# CSS 선택자로 검색하는 방법\n",
    "sel = lambda q: print(soup.select_one(q).string)\n",
    "# lambda 인자 : 표현식\n",
    "# sel(\"a\") = a에 대해 print(soup.select_one(a).string) 한 것을 q에다 집어넣는다.\n",
    "sel(\"#nu\")\n",
    "# id 속성이 nu인 것을 추출\n",
    "sel(\"li#nu\")\n",
    "# li 태그를 추가하여 지정\n",
    "sel(\"ul > li#nu\")\n",
    "# ul 태그의 자식이라는 것을 추가\n",
    "sel(\"#bible #nu\")\n",
    "# #bible 아래의 #nu를 선택\n",
    "sel(\"#bible > #nu\")\n",
    "# 직접적인 부모 자식 관계를 가지고 있다는 것을 나타냄\n",
    "sel(\"ul#bible > li#nu\")\n",
    "# id가 bible인 ul 태그 바로 아래에 있는 id가 nu인 li태그를 선택\n",
    "sel(\"li[id='nu']\")\n",
    "# 속성 검색을 사용해 id가 nu인 li태그를 지정\n",
    "sel(\"li:nth-of-type(4)\")\n",
    "# 4번째 li 태그를 추출\n",
    "\n",
    "# 그 밖의 방법\n",
    "print(soup.select(\"li\")[3].string)\n",
    "# soup.select로 모든 li 태그를 추출하고 3번째 태그를 불러옴\n",
    "print(soup.find_all(\"li\")[3].string)\n",
    "# soup.find_all로 모든 li 태그를 추출하고 3번째 태그를 불러옴"
   ]
  },
  {
   "cell_type": "code",
   "execution_count": 33,
   "metadata": {},
   "outputs": [
    {
     "name": "stdout",
     "output_type": "stream",
     "text": [
      "아보카도\n",
      "아보카도\n",
      "아보카도\n",
      "아보카도\n",
      "아보카도\n"
     ]
    }
   ],
   "source": [
    "# fruits-vegetables\n",
    "\n",
    "from bs4 import BeautifulSoup\n",
    "\n",
    "fp = open(\"fruits-vegetables.html\", encoding=\"utf-8\")\n",
    "soup = BeautifulSoup(fp, \"html.parser\")\n",
    "\n",
    "# CSS 선택자로 추출하기 -- (*1)\n",
    "print(soup.select(\"ul#ve-list > li[data-lo='us']\")[1].string)\n",
    "# id가 ve-list인 요소 바로 아래에 있는 <li> 태그 중에서 data-lo 속성이 'us'인 것을 모두 추출하고, 그중에서 [1]을 선택\n",
    "print(soup.select(\"ul#ve-list > li.black\")[1].string)\n",
    "# class 속성이 black인 요소 가운데 [1]\n",
    "print(soup.select_one(\"#ve-list > li:nth-of-type(4)\").string)\n",
    "# id가 ve-list인 요소 바로 아래에 있는 <li> 태그 중에 4번째 요소\n",
    "\n",
    "# find 메서드로 추출하기 -- (*2)\n",
    "cond = {\"data-lo\":\"us\", \"class\":\"black\"}\n",
    "# data-lo 속성이 'us', class 속성이 \"black\" 인 것을 추출\n",
    "print(soup.find(\"li\",cond).string)\n",
    "\n",
    "# find 메서드를 연속적으로 사용하기 -- (*3)\n",
    "print(soup.find(id=\"ve-list\").find(\"li\", cond).string)\n",
    "# find 메서드를 두 번 조합, id가 ve-list인 요소에서 li 태그인 것을 추출"
   ]
  },
  {
   "cell_type": "code",
   "execution_count": 38,
   "metadata": {},
   "outputs": [
    {
     "name": "stdout",
     "output_type": "stream",
     "text": [
      "https://example.com/fuga\n",
      "https://example.com/foo\n",
      "https://example.com/aaa\n"
     ]
    }
   ],
   "source": [
    "# sel-re\n",
    "\n",
    "from bs4 import BeautifulSoup\n",
    "import re # 정규 표현식을 사용할 때 -- (*1)\n",
    "\n",
    "html = \"\"\"\n",
    "<ul>\n",
    "    <li><a href=\"hoge.html\">hoge</li>\n",
    "    <li><a href=\"https://example.com/fuga\">fuga*</li>\n",
    "    <li><a href=\"https://example.com/foo\">foo*</li>\n",
    "    <li><a href=\"https://example.com/aaa\">aaa</li>\n",
    "</ul> \n",
    "\"\"\"\n",
    "\n",
    "soup = BeautifulSoup(html, \"html.parser\")\n",
    "\n",
    "# 정규 표현식으로 href에서 https인 것 추출하기 -- (*2)\n",
    "li = soup.find_all(href=re.compile(r\"^https://\"))\n",
    "# 특정 패턴의 문자열을 검색하는데 매우 유용하다.\n",
    "# ex) 전화번호 검색 => re.compile(r`\\d\\d\\d=\\d\\d\\d-\\d\\d\\d\\d') (d는 digit = 0~9 아무 숫자), ^ = 이 패턴으로 시작해야 함, $ = 이 패턴으로 종료되어야 함,\n",
    "# [문자들] = 문자들 중에 하나이여야 함, [^문자들] = 피해야할 문자들의 집합, | = 두 패턴 중 하나이어야 함(or), ? = 앞 패턴이 없거나 하나이어야 함.\n",
    "# + = 앞 패턴이 하나 이상이어야 함, * = 앞 패턴이 0개 이상이어야 함, 패턴{n} = 앞 패턴이 n번 반복해서 나타나는 경우,\n",
    "# 패턴{n, m} = 앞 패턴이 최소 n번, 최대 m번 반복해서 나타나는 경우, \\d = 숫자 0~9, \\w = 문자를 의미, \\s = 화이트 스페이스 => [\\t\\n\\r\\f],\n",
    "# . = 뉴라인(\\n)을 제외한 모든 문자를 의미\n",
    "\n",
    "for e in li: print(e.attrs['href'])\n",
    "# attrs = 속성, ex) href"
   ]
  },
  {
   "cell_type": "code",
   "execution_count": null,
   "metadata": {},
   "outputs": [],
   "source": []
  }
 ],
 "metadata": {
  "kernelspec": {
   "display_name": "Python 3",
   "language": "python",
   "name": "python3"
  },
  "language_info": {
   "codemirror_mode": {
    "name": "ipython",
    "version": 3
   },
   "file_extension": ".py",
   "mimetype": "text/x-python",
   "name": "python",
   "nbconvert_exporter": "python",
   "pygments_lexer": "ipython3",
   "version": "3.8.3"
  }
 },
 "nbformat": 4,
 "nbformat_minor": 4
}
