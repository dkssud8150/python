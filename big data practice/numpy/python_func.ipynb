{
 "cells": [
  {
   "cell_type": "markdown",
   "metadata": {},
   "source": [
    "# python 함수"
   ]
  },
  {
   "cell_type": "markdown",
   "metadata": {},
   "source": [
    "함수 정의 및 함수 호출\n",
    "- 형식 인자(formal parameter)를 선언하거나 생략할 수 있음(a, b, c)\n",
    "- 형식 인자 중 초기값을 갖는 인자를 non-default argument라고 함(c=1.0)\n",
    "- non-default argument는 다른 인자(default argument)보다 뒤에 나타나야 함."
   ]
  },
  {
   "cell_type": "code",
   "execution_count": 3,
   "metadata": {},
   "outputs": [],
   "source": [
    "def my_func(a, b, c=1.0):\n",
    "    if c != 0:\n",
    "        k = (a+b)/c\n",
    "    else:\n",
    "        k = a+b\n",
    "    return k"
   ]
  },
  {
   "cell_type": "code",
   "execution_count": 9,
   "metadata": {},
   "outputs": [
    {
     "name": "stdout",
     "output_type": "stream",
     "text": [
      "15.714285714285715\n",
      "10.14\n",
      "10.14\n"
     ]
    }
   ],
   "source": [
    "print(my_func(5, 6, c=0.7))\n",
    "print(my_func(3.14, 7, c=0))\n",
    "print(my_func(3.14, 7))"
   ]
  },
  {
   "cell_type": "code",
   "execution_count": 14,
   "metadata": {},
   "outputs": [
    {
     "data": {
      "text/plain": [
       "15.0"
      ]
     },
     "execution_count": 14,
     "metadata": {},
     "output_type": "execute_result"
    }
   ],
   "source": [
    "#어떤 형식 매개변수(formal parameter)에 어떤 값이 전달됐는지 알기 쉽도록 선언할 수 있음. \n",
    "#my_func(a=10, b=5, c=1)\n",
    "my_func(c=1, b=5, a=10)"
   ]
  },
  {
   "cell_type": "markdown",
   "metadata": {},
   "source": [
    "변수의 범위(scope): 함수에서 정의한 변수(lis)는 함수 밖에서는 참조할 수 없다."
   ]
  },
  {
   "cell_type": "code",
   "execution_count": 20,
   "metadata": {},
   "outputs": [],
   "source": [
    "def foo():\n",
    "    lis = []\n",
    "    for i in range(10):\n",
    "        lis.append(i)\n",
    "    print(lis)"
   ]
  },
  {
   "cell_type": "code",
   "execution_count": 22,
   "metadata": {},
   "outputs": [
    {
     "name": "stdout",
     "output_type": "stream",
     "text": [
      "[0, 1, 2, 3, 4, 5, 6, 7, 8, 9]\n"
     ]
    }
   ],
   "source": [
    "foo()\n",
    "#lis - 함수에서 정의한 변수를 참조(access)할 수 없음"
   ]
  },
  {
   "cell_type": "markdown",
   "metadata": {},
   "source": [
    "python 함수는 한 개의 값이 아니라 여러 개 값을 반환(return) 할 수 있다."
   ]
  },
  {
   "cell_type": "code",
   "execution_count": 24,
   "metadata": {},
   "outputs": [],
   "source": [
    "def bar():\n",
    "    x=1; y=2; z=3    # 한 줄에 여러 개 문장을 쓸 때는 ;로 구분. \n",
    "    return x, y, z"
   ]
  },
  {
   "cell_type": "code",
   "execution_count": 25,
   "metadata": {},
   "outputs": [
    {
     "name": "stdout",
     "output_type": "stream",
     "text": [
      "1 2 3\n"
     ]
    }
   ],
   "source": [
    "a, b, c = bar()\n",
    "print(a, b, c)"
   ]
  },
  {
   "cell_type": "markdown",
   "metadata": {},
   "source": [
    "함수의 다양한 사용 예 : 예제 인용 - Chapter 3, Python for Data Analysis(2nd Ed.)\n",
    "- 아래 예제처럼 설문조사 응답결과 raw data의 형식이 일정치 않은 경우(대소문자 혼용, 특수문자 사용 등)"
   ]
  },
  {
   "cell_type": "code",
   "execution_count": 46,
   "metadata": {},
   "outputs": [],
   "source": [
    "states = ['Alabama', 'Georgia!', 'Georgia', 'georgia', 'FlOrIda', \n",
    "         'south   carolina##', 'West  virginia?']"
   ]
  },
  {
   "cell_type": "code",
   "execution_count": 27,
   "metadata": {},
   "outputs": [],
   "source": [
    "import re  # 정규표현식(regular expression) 라이브러리 사용"
   ]
  },
  {
   "cell_type": "code",
   "execution_count": 47,
   "metadata": {},
   "outputs": [],
   "source": [
    "def clean_strings(strings):\n",
    "    result = []\n",
    "    for value in strings:\n",
    "        value = value.strip()  # 공백문자 제거\n",
    "        value = re.sub('[!#?]','', value) # 특수문자 제거\n",
    "        value = value.title() # 첫글자를 대문자로 변환\n",
    "        value = re.sub('[ ]+',' ', value) # 2개 이상 공백문자가 있을 경우 1개만 남김\n",
    "        result.append(value)\n",
    "    return result"
   ]
  },
  {
   "cell_type": "code",
   "execution_count": 48,
   "metadata": {},
   "outputs": [
    {
     "data": {
      "text/plain": [
       "['Alabama',\n",
       " 'Georgia',\n",
       " 'Georgia',\n",
       " 'Georgia',\n",
       " 'Florida',\n",
       " 'South Carolina',\n",
       " 'West Virginia']"
      ]
     },
     "execution_count": 48,
     "metadata": {},
     "output_type": "execute_result"
    }
   ],
   "source": [
    "clean_strings(states) #원본 리스트는 바뀌지 않음.\n",
    "#states = clean_strings(states) #원본 리스트 내용도 바꾸려면\n",
    "#states"
   ]
  },
  {
   "cell_type": "markdown",
   "metadata": {},
   "source": [
    "결과는 같지만, 적용할 함수들을 list에 담아놓고 순서대로 적용."
   ]
  },
  {
   "cell_type": "code",
   "execution_count": 39,
   "metadata": {},
   "outputs": [],
   "source": [
    "def remove_specialchars(value):\n",
    "    return re.sub('[?!#]', '', value)\n",
    "def redundant_spaces(value):\n",
    "    return re.sub('[ ]+',' ', value)"
   ]
  },
  {
   "cell_type": "code",
   "execution_count": 40,
   "metadata": {},
   "outputs": [],
   "source": [
    "apply_ops = [str.strip, remove_specialchars, str.title, redundant_spaces]"
   ]
  },
  {
   "cell_type": "code",
   "execution_count": 41,
   "metadata": {},
   "outputs": [],
   "source": [
    "def clean_strings2(strings, ops):\n",
    "    result = []\n",
    "    for value in strings:\n",
    "        for func in ops:\n",
    "            value = func(value)\n",
    "        result.append(value)\n",
    "    return result "
   ]
  },
  {
   "cell_type": "code",
   "execution_count": 42,
   "metadata": {},
   "outputs": [
    {
     "data": {
      "text/plain": [
       "['Alabama',\n",
       " 'Georgia',\n",
       " 'Georgia',\n",
       " 'Georgia',\n",
       " 'Florida',\n",
       " 'South Carolina',\n",
       " 'West Virginia']"
      ]
     },
     "execution_count": 42,
     "metadata": {},
     "output_type": "execute_result"
    }
   ],
   "source": [
    "clean_strings2(states, apply_ops)"
   ]
  },
  {
   "cell_type": "code",
   "execution_count": 71,
   "metadata": {},
   "outputs": [],
   "source": [
    "states = ['Alabama', 'Georgia!', 'Georgia', 'georgia', 'FlOrIda', \n",
    "         'south carolina##', 'West  virginia?']"
   ]
  },
  {
   "cell_type": "markdown",
   "metadata": {},
   "source": [
    "이번에는 map 함수를 이용해 구현해 보자!"
   ]
  },
  {
   "cell_type": "code",
   "execution_count": 44,
   "metadata": {},
   "outputs": [],
   "source": [
    "def clean_strings3(strings, ops):\n",
    "    result = []\n",
    "    for value in map(ops, strings):\n",
    "        result.append(value)\n",
    "    return result"
   ]
  },
  {
   "cell_type": "code",
   "execution_count": 45,
   "metadata": {},
   "outputs": [
    {
     "data": {
      "text/plain": [
       "['Alabama',\n",
       " 'Georgia',\n",
       " 'Georgia',\n",
       " 'Georgia',\n",
       " 'Florida',\n",
       " 'South Carolina',\n",
       " 'West Virginia']"
      ]
     },
     "execution_count": 45,
     "metadata": {},
     "output_type": "execute_result"
    }
   ],
   "source": [
    "states = clean_strings3(states, str.strip)\n",
    "states = clean_strings3(states, remove_specialchars)\n",
    "states = clean_strings3(states, str.title)\n",
    "states = clean_strings3(states, redundant_spaces)\n",
    "states"
   ]
  },
  {
   "cell_type": "markdown",
   "metadata": {},
   "source": [
    "lambda function\n",
    "- 함수 이름 대신 lambda 키워드 사용. 한 문장으로 이루어진 간단한 함수.\n",
    "- 독립적으로 사용하기보다는 함수의 형식 인자를 람다 함수로 정의하는 형태를 주로 사용."
   ]
  },
  {
   "cell_type": "code",
   "execution_count": 68,
   "metadata": {},
   "outputs": [
    {
     "data": {
      "text/plain": [
       "[2, 4, 6]"
      ]
     },
     "execution_count": 68,
     "metadata": {},
     "output_type": "execute_result"
    }
   ],
   "source": [
    "def boo(x):\n",
    "    return x*2\n",
    "\n",
    "mboo = lambda x: x*2"
   ]
  },
  {
   "cell_type": "code",
   "execution_count": 67,
   "metadata": {},
   "outputs": [
    {
     "data": {
      "text/plain": [
       "[2, 4, 6]"
      ]
     },
     "execution_count": 67,
     "metadata": {},
     "output_type": "execute_result"
    }
   ],
   "source": [
    "boo_lst = list(range(1,4))\n",
    "def apply_to_list(lst, f):\n",
    "    return [f(x) for x in lst]\n",
    "apply_to_list(boo_lst, mboo)"
   ]
  },
  {
   "cell_type": "code",
   "execution_count": 62,
   "metadata": {},
   "outputs": [
    {
     "data": {
      "text/plain": [
       "[2, 4, 6]"
      ]
     },
     "execution_count": 62,
     "metadata": {},
     "output_type": "execute_result"
    }
   ],
   "source": [
    "apply_to_list(boo_lst, lambda x:x*2)"
   ]
  },
  {
   "cell_type": "code",
   "execution_count": 94,
   "metadata": {},
   "outputs": [],
   "source": [
    "slist = ['foot', 'a', 'python', 'but', 'he', 'longlong', 'short']"
   ]
  },
  {
   "cell_type": "code",
   "execution_count": 97,
   "metadata": {},
   "outputs": [
    {
     "data": {
      "text/plain": [
       "['a', 'he', 'but', 'foot', 'short', 'python', 'longlong']"
      ]
     },
     "execution_count": 97,
     "metadata": {},
     "output_type": "execute_result"
    }
   ],
   "source": [
    "slist.sort(key=lambda x: len(x))\n",
    "slist"
   ]
  },
  {
   "cell_type": "code",
   "execution_count": null,
   "metadata": {},
   "outputs": [],
   "source": []
  }
 ],
 "metadata": {
  "kernelspec": {
   "display_name": "Python 3",
   "language": "python",
   "name": "python3"
  },
  "language_info": {
   "codemirror_mode": {
    "name": "ipython",
    "version": 3
   },
   "file_extension": ".py",
   "mimetype": "text/x-python",
   "name": "python",
   "nbconvert_exporter": "python",
   "pygments_lexer": "ipython3",
   "version": "3.7.6"
  }
 },
 "nbformat": 4,
 "nbformat_minor": 2
}
