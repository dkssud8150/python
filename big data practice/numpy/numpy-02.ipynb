{
 "cells": [
  {
   "cell_type": "markdown",
   "metadata": {},
   "source": [
    "논리 연산 결과를 이용한 배열 원소 선택"
   ]
  },
  {
   "cell_type": "code",
   "execution_count": 1,
   "metadata": {},
   "outputs": [],
   "source": [
    "import numpy as np"
   ]
  },
  {
   "cell_type": "markdown",
   "metadata": {},
   "source": [
    "아래 예에서 배열 names의 원소는 모두 7개이며, 각 원소는 배열 data의 행(row)에 대응된다고 가정."
   ]
  },
  {
   "cell_type": "code",
   "execution_count": 4,
   "metadata": {},
   "outputs": [],
   "source": [
    "names = np.array(['Kim', 'Lee', 'Park', 'Kim', 'Park', 'Lee', 'Lee'])\n",
    "data = np.random.randn(7,4)"
   ]
  },
  {
   "cell_type": "code",
   "execution_count": 5,
   "metadata": {},
   "outputs": [
    {
     "data": {
      "text/plain": [
       "array(['Kim', 'Lee', 'Park', 'Kim', 'Park', 'Lee', 'Lee'], dtype='<U4')"
      ]
     },
     "execution_count": 5,
     "metadata": {},
     "output_type": "execute_result"
    }
   ],
   "source": [
    "names  "
   ]
  },
  {
   "cell_type": "code",
   "execution_count": 6,
   "metadata": {},
   "outputs": [
    {
     "data": {
      "text/plain": [
       "array([[ 0.48408458,  1.24158315,  1.24129628,  0.47844047],\n",
       "       [ 0.01351501, -0.3823599 , -0.20404109, -0.87467514],\n",
       "       [ 0.68669715,  0.19150034, -0.8000639 ,  0.42169539],\n",
       "       [ 0.27083698,  0.22715289, -0.36498433,  1.474622  ],\n",
       "       [-0.34285793, -0.76967845, -2.40397905,  0.56079246],\n",
       "       [ 0.041964  ,  0.41468742,  0.0697782 , -0.66825039],\n",
       "       [-0.57673388,  0.46331817,  0.34054792, -0.23458025]])"
      ]
     },
     "execution_count": 6,
     "metadata": {},
     "output_type": "execute_result"
    }
   ],
   "source": [
    "data"
   ]
  },
  {
   "cell_type": "markdown",
   "metadata": {},
   "source": [
    "배열 data에서 'Kim'에 대응되는 행(row)인 0, 3을 찾고 싶다. 'Lee'는 행 1,5,6, 'Park'은 행 2,4."
   ]
  },
  {
   "cell_type": "code",
   "execution_count": 7,
   "metadata": {},
   "outputs": [
    {
     "data": {
      "text/plain": [
       "array([ True, False, False,  True, False, False, False])"
      ]
     },
     "execution_count": 7,
     "metadata": {},
     "output_type": "execute_result"
    }
   ],
   "source": [
    "names == 'Kim'"
   ]
  },
  {
   "cell_type": "code",
   "execution_count": 8,
   "metadata": {},
   "outputs": [
    {
     "data": {
      "text/plain": [
       "array([[ 0.48408458,  1.24158315,  1.24129628,  0.47844047],\n",
       "       [ 0.27083698,  0.22715289, -0.36498433,  1.474622  ]])"
      ]
     },
     "execution_count": 8,
     "metadata": {},
     "output_type": "execute_result"
    }
   ],
   "source": [
    "data[names == 'Kim']"
   ]
  },
  {
   "cell_type": "code",
   "execution_count": 9,
   "metadata": {},
   "outputs": [
    {
     "data": {
      "text/plain": [
       "array([[ 1.24129628,  0.47844047],\n",
       "       [-0.36498433,  1.474622  ]])"
      ]
     },
     "execution_count": 9,
     "metadata": {},
     "output_type": "execute_result"
    }
   ],
   "source": [
    "data[names == 'Kim', 2:]\n",
    "#data[names == 'Kim', 3]"
   ]
  },
  {
   "cell_type": "code",
   "execution_count": 10,
   "metadata": {},
   "outputs": [
    {
     "data": {
      "text/plain": [
       "array([False,  True,  True, False,  True,  True,  True])"
      ]
     },
     "execution_count": 10,
     "metadata": {},
     "output_type": "execute_result"
    }
   ],
   "source": [
    "names != 'Kim'\n",
    "#~(names == 'Kim')"
   ]
  },
  {
   "cell_type": "code",
   "execution_count": 11,
   "metadata": {},
   "outputs": [
    {
     "data": {
      "text/plain": [
       "array([[ 0.01351501, -0.3823599 , -0.20404109, -0.87467514],\n",
       "       [ 0.68669715,  0.19150034, -0.8000639 ,  0.42169539],\n",
       "       [-0.34285793, -0.76967845, -2.40397905,  0.56079246],\n",
       "       [ 0.041964  ,  0.41468742,  0.0697782 , -0.66825039],\n",
       "       [-0.57673388,  0.46331817,  0.34054792, -0.23458025]])"
      ]
     },
     "execution_count": 11,
     "metadata": {},
     "output_type": "execute_result"
    }
   ],
   "source": [
    "data[~(names == 'Kim')]"
   ]
  },
  {
   "cell_type": "code",
   "execution_count": 12,
   "metadata": {},
   "outputs": [
    {
     "data": {
      "text/plain": [
       "array([[ 0.01351501, -0.3823599 , -0.20404109, -0.87467514],\n",
       "       [ 0.68669715,  0.19150034, -0.8000639 ,  0.42169539],\n",
       "       [-0.34285793, -0.76967845, -2.40397905,  0.56079246],\n",
       "       [ 0.041964  ,  0.41468742,  0.0697782 , -0.66825039],\n",
       "       [-0.57673388,  0.46331817,  0.34054792, -0.23458025]])"
      ]
     },
     "execution_count": 12,
     "metadata": {},
     "output_type": "execute_result"
    }
   ],
   "source": [
    "cond = names == 'Kim'\n",
    "data[~cond]"
   ]
  },
  {
   "cell_type": "markdown",
   "metadata": {},
   "source": [
    "논리 AND('&') 및 논리 OR('|') 연산"
   ]
  },
  {
   "cell_type": "code",
   "execution_count": 13,
   "metadata": {},
   "outputs": [
    {
     "data": {
      "text/plain": [
       "array([ True, False,  True,  True,  True, False, False])"
      ]
     },
     "execution_count": 13,
     "metadata": {},
     "output_type": "execute_result"
    }
   ],
   "source": [
    "mask = (names == 'Kim') | (names == 'Park')\n",
    "mask"
   ]
  },
  {
   "cell_type": "code",
   "execution_count": 46,
   "metadata": {},
   "outputs": [
    {
     "data": {
      "text/plain": [
       "array([[ 0.20176935,  0.54716886, -0.60680992, -0.47619612],\n",
       "       [ 2.15055524,  0.6947555 ,  0.48922107,  0.20627865],\n",
       "       [ 0.82791769, -1.34121766,  0.06292382, -1.96297453],\n",
       "       [ 0.465281  , -2.70274869, -0.59503503, -0.59036535]])"
      ]
     },
     "execution_count": 46,
     "metadata": {},
     "output_type": "execute_result"
    }
   ],
   "source": [
    "data[mask]"
   ]
  },
  {
   "cell_type": "code",
   "execution_count": 47,
   "metadata": {},
   "outputs": [
    {
     "data": {
      "text/plain": [
       "array([[0.20176935, 0.54716886, 0.        , 0.        ],\n",
       "       [0.        , 2.00301093, 0.        , 0.        ],\n",
       "       [2.15055524, 0.6947555 , 0.48922107, 0.20627865],\n",
       "       [0.82791769, 0.        , 0.06292382, 0.        ],\n",
       "       [0.465281  , 0.        , 0.        , 0.        ],\n",
       "       [0.        , 0.        , 0.28686563, 0.        ],\n",
       "       [0.        , 0.        , 0.        , 1.01648602]])"
      ]
     },
     "execution_count": 47,
     "metadata": {},
     "output_type": "execute_result"
    }
   ],
   "source": [
    "data[data<0] = 0  # 모든 음수 값을 0으로 바꿈\n",
    "data"
   ]
  },
  {
   "cell_type": "code",
   "execution_count": 14,
   "metadata": {},
   "outputs": [
    {
     "data": {
      "text/plain": [
       "array([[ 7.        ,  7.        ,  7.        ,  7.        ],\n",
       "       [ 0.01351501, -0.3823599 , -0.20404109, -0.87467514],\n",
       "       [ 7.        ,  7.        ,  7.        ,  7.        ],\n",
       "       [ 7.        ,  7.        ,  7.        ,  7.        ],\n",
       "       [ 7.        ,  7.        ,  7.        ,  7.        ],\n",
       "       [ 0.041964  ,  0.41468742,  0.0697782 , -0.66825039],\n",
       "       [-0.57673388,  0.46331817,  0.34054792, -0.23458025]])"
      ]
     },
     "execution_count": 14,
     "metadata": {},
     "output_type": "execute_result"
    }
   ],
   "source": [
    "data[names != 'Lee'] = 7\n",
    "data"
   ]
  },
  {
   "cell_type": "code",
   "execution_count": null,
   "metadata": {},
   "outputs": [],
   "source": []
  }
 ],
 "metadata": {
  "kernelspec": {
   "display_name": "Python 3",
   "language": "python",
   "name": "python3"
  },
  "language_info": {
   "codemirror_mode": {
    "name": "ipython",
    "version": 3
   },
   "file_extension": ".py",
   "mimetype": "text/x-python",
   "name": "python",
   "nbconvert_exporter": "python",
   "pygments_lexer": "ipython3",
   "version": "3.7.6"
  }
 },
 "nbformat": 4,
 "nbformat_minor": 2
}
