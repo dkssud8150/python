{
 "cells": [
  {
   "cell_type": "markdown",
   "metadata": {},
   "source": [
    "# python 자료 구조: tuple, list, dictionary, set"
   ]
  },
  {
   "cell_type": "markdown",
   "metadata": {},
   "source": [
    "all rights reserved, 2020, by 홍윤식(인천대 컴퓨터공학부 교수). 강의 수강 목적으로만 사용을 허가. 강의 수강 목적 이외 코드 복사, 배포를 일체 허용하지 않음."
   ]
  },
  {
   "cell_type": "markdown",
   "metadata": {},
   "source": [
    "# 1. tuple"
   ]
  },
  {
   "cell_type": "markdown",
   "metadata": {},
   "source": [
    "튜플(tuple)은 1차원 자료 구조. 원소의 값은 ','(콤마)로 구분. 한 번 만들고 나면, 튜플의 원소는 변경할 수 없음(immutable)."
   ]
  },
  {
   "cell_type": "code",
   "execution_count": 1,
   "metadata": {},
   "outputs": [],
   "source": [
    "tup = 1, 2, 3  #괄호를 사용하지 않고 콤마(,)로 원소를 구분하거나\n",
    "#tup = (1, 2, 3) #괄호로 묶어도 됨."
   ]
  },
  {
   "cell_type": "markdown",
   "metadata": {},
   "source": [
    "'#'기호는 주석(comment). '#'기호 뒤에 오는 내용은 실행되지 않음. \n",
    "'#' 기호를 지우고 실행시켜 볼 것!"
   ]
  },
  {
   "cell_type": "code",
   "execution_count": 2,
   "metadata": {},
   "outputs": [],
   "source": [
    "#튜플 객체 tup의 원소는? tup 객체를 출력하면 원소가 괄호로 묶여 출력됨.\n",
    "#tup   "
   ]
  },
  {
   "cell_type": "code",
   "execution_count": 3,
   "metadata": {},
   "outputs": [],
   "source": [
    "#len 메소드 - tup에 포함된 원소 개수.\n",
    "#len(tup) "
   ]
  },
  {
   "cell_type": "markdown",
   "metadata": {},
   "source": [
    "괄호를 사용해 중첩된 튜플(nested tuple)을 만들 수 있음. 즉, 튜플의 원소로 튜플을 포함할 수 있음."
   ]
  },
  {
   "cell_type": "code",
   "execution_count": 4,
   "metadata": {},
   "outputs": [],
   "source": [
    "tup2 = 1, 2, (3, 4, 5)\n",
    "#tup2 = (1, 2, (3, 4, 5))  "
   ]
  },
  {
   "cell_type": "markdown",
   "metadata": {},
   "source": [
    "tup2의 원소 개수는 몇 개일까?"
   ]
  },
  {
   "cell_type": "code",
   "execution_count": 5,
   "metadata": {},
   "outputs": [],
   "source": [
    "#len(tup2)"
   ]
  },
  {
   "cell_type": "code",
   "execution_count": 6,
   "metadata": {},
   "outputs": [],
   "source": [
    "#튜플의 원소 참조 => [index]. index는 0부터 시작.\n",
    "#tup2[0]"
   ]
  },
  {
   "cell_type": "code",
   "execution_count": 7,
   "metadata": {},
   "outputs": [],
   "source": [
    "#tup2[2]"
   ]
  },
  {
   "cell_type": "code",
   "execution_count": 8,
   "metadata": {},
   "outputs": [],
   "source": [
    "#튜플의 원소는 변경 불가(immutable). 아래 문장을 실행하면 결과는?\n",
    "#tup2[2] = 5  "
   ]
  },
  {
   "cell_type": "markdown",
   "metadata": {},
   "source": [
    "type 메소드를 사용해 튜플 객체의 타입(type)을 확인할 수 있음. "
   ]
  },
  {
   "cell_type": "code",
   "execution_count": 9,
   "metadata": {},
   "outputs": [],
   "source": [
    "#type(tup2)"
   ]
  },
  {
   "cell_type": "code",
   "execution_count": 10,
   "metadata": {},
   "outputs": [],
   "source": [
    "#문자열(str) 객체 s, t를 만들고, 이 객체 s, t의 타입을 확인해보자.\n",
    "s = 'hello, '\n",
    "t = 'python!'\n",
    "#type(s)\n",
    "#type(t)"
   ]
  },
  {
   "cell_type": "markdown",
   "metadata": {},
   "source": [
    "문자열 타입을 튜플 타입으로 바꿔보자! 타입 변환은 바꾸고자 하는 타입 이름을 메소드로 사용."
   ]
  },
  {
   "cell_type": "code",
   "execution_count": 11,
   "metadata": {},
   "outputs": [],
   "source": [
    "tup3 = tuple(s)  \n",
    "tup4 = tuple(t)\n",
    "#tup3\n",
    "#tup4"
   ]
  },
  {
   "cell_type": "markdown",
   "metadata": {},
   "source": [
    "그럼, 튜플 객체를 문자열 객체로 변환하면 어떻게 될까?"
   ]
  },
  {
   "cell_type": "code",
   "execution_count": 12,
   "metadata": {},
   "outputs": [],
   "source": [
    "#tup_s = str(tup)\n",
    "#tup_s"
   ]
  },
  {
   "cell_type": "markdown",
   "metadata": {},
   "source": [
    "연결(concatenation) 연산기호 : '+' (덧셈이 아님). 튜플 객체끼리 연결 연산과 문자열 객체끼리 연결 연산은 어떻게 다를까?"
   ]
  },
  {
   "cell_type": "code",
   "execution_count": 13,
   "metadata": {},
   "outputs": [],
   "source": [
    "# tup3 + tup4\n",
    "# s + t"
   ]
  },
  {
   "cell_type": "code",
   "execution_count": 14,
   "metadata": {},
   "outputs": [
    {
     "name": "stdout",
     "output_type": "stream",
     "text": [
      "1\n",
      "2\n",
      "3\n"
     ]
    }
   ],
   "source": [
    "# 튜플 객체의 원소를 출력하는 방법은 for 루프를 사용\n",
    "for x in tup:\n",
    "    print(x)"
   ]
  },
  {
   "cell_type": "code",
   "execution_count": 15,
   "metadata": {},
   "outputs": [],
   "source": [
    "# tuple에서 원소 값을 읽어오는 간단한 방법. 왜 a, b, c 3개를 선언했을까?\n",
    "a, b, c = tup  \n",
    "#a\n",
    "#b"
   ]
  },
  {
   "cell_type": "markdown",
   "metadata": {},
   "source": [
    "# 2. list"
   ]
  },
  {
   "cell_type": "markdown",
   "metadata": {},
   "source": [
    "list와 tuple이 다른 점 2가지: 1.[ ]를 사용, 2. 원소 값 변경 가능(mutable)."
   ]
  },
  {
   "cell_type": "code",
   "execution_count": 31,
   "metadata": {},
   "outputs": [],
   "source": [
    "lis = [1, 2, 3]"
   ]
  },
  {
   "cell_type": "code",
   "execution_count": 32,
   "metadata": {},
   "outputs": [],
   "source": [
    "lis[2] = 4\n",
    "#lis"
   ]
  },
  {
   "cell_type": "markdown",
   "metadata": {},
   "source": [
    "튜플은 한 번 만들고 나면 원소를 변경할 수 없다고 했지만...\n",
    "- 튜플의 타입을 리스트로 바꾸면 어떻게 될까?"
   ]
  },
  {
   "cell_type": "code",
   "execution_count": 21,
   "metadata": {},
   "outputs": [
    {
     "data": {
      "text/plain": [
       "(1, 2, (3, 4, 5))"
      ]
     },
     "execution_count": 21,
     "metadata": {},
     "output_type": "execute_result"
    }
   ],
   "source": [
    "tup2\n",
    "#tup2[2] = 5"
   ]
  },
  {
   "cell_type": "code",
   "execution_count": 23,
   "metadata": {},
   "outputs": [],
   "source": [
    "#new_tup = list(tup2)\n",
    "#new_tup[2] = 5\n",
    "#new_tup"
   ]
  },
  {
   "cell_type": "markdown",
   "metadata": {},
   "source": [
    "리스트에 새 원소를 추가하려면 append 와 insert 메소드를 사용. 리스트의 원소를 제거하려면 remove 또는 pop 메소드를 사용. 특히, 리스트에 원소를 추가할 때는 append 메소드가 처리속도 측면에서 유리. 왜냐하면 append 메소드는 단어 뜻 그대로 무조건 리스트의 맨 끝에 원소를 추가(append)하기 때문."
   ]
  },
  {
   "cell_type": "code",
   "execution_count": 33,
   "metadata": {},
   "outputs": [
    {
     "data": {
      "text/plain": [
       "[1, 2, 4, 8]"
      ]
     },
     "execution_count": 33,
     "metadata": {},
     "output_type": "execute_result"
    }
   ],
   "source": [
    "lis.append(8)  # 새 원소를 리스트의 맨 끝에 추가. \n",
    "#lis"
   ]
  },
  {
   "cell_type": "code",
   "execution_count": 34,
   "metadata": {},
   "outputs": [
    {
     "data": {
      "text/plain": [
       "[1, 8, 2, 4, 8]"
      ]
     },
     "execution_count": 34,
     "metadata": {},
     "output_type": "execute_result"
    }
   ],
   "source": [
    "lis.insert(1, 8) # 두 번째 위치(인덱스=1)에 새 원소를 삽입.\n",
    "#lis"
   ]
  },
  {
   "cell_type": "markdown",
   "metadata": {},
   "source": [
    "아래 remove 메소드를 실행하면, 2개의 숫자 8 중 어느 것이 없어질까?"
   ]
  },
  {
   "cell_type": "code",
   "execution_count": 35,
   "metadata": {},
   "outputs": [
    {
     "data": {
      "text/plain": [
       "[1, 2, 4, 8]"
      ]
     },
     "execution_count": 35,
     "metadata": {},
     "output_type": "execute_result"
    }
   ],
   "source": [
    "lis.remove(8)\n",
    "#lis"
   ]
  },
  {
   "cell_type": "code",
   "execution_count": 36,
   "metadata": {},
   "outputs": [
    {
     "data": {
      "text/plain": [
       "[1, 2, 8]"
      ]
     },
     "execution_count": 36,
     "metadata": {},
     "output_type": "execute_result"
    }
   ],
   "source": [
    "lis.pop(2) # 2는 인덱스. 리스트의 3번째 원소를 가리킴.\n",
    "#lis"
   ]
  },
  {
   "cell_type": "code",
   "execution_count": 38,
   "metadata": {},
   "outputs": [
    {
     "data": {
      "text/plain": [
       "True"
      ]
     },
     "execution_count": 38,
     "metadata": {},
     "output_type": "execute_result"
    }
   ],
   "source": [
    "# in 또는 not in 을 사용해 리스트에 해당 원소가 있는지 여부를 확인. 결과는 불린 값(True 또는 False)\n",
    "9 not in lis      \n",
    "#9 in lis"
   ]
  },
  {
   "cell_type": "markdown",
   "metadata": {},
   "source": [
    "실습: 아래 코드 실행 결과를 예측해 보자! 코드가 이해됐으면, in 대신 not in 을 사용해 아래 코드를 수정해 보자."
   ]
  },
  {
   "cell_type": "code",
   "execution_count": 42,
   "metadata": {},
   "outputs": [
    {
     "name": "stdout",
     "output_type": "stream",
     "text": [
      "1 is in the [1, 2, 8]\n",
      "3 is not in the [1, 2, 8]\n"
     ]
    }
   ],
   "source": [
    "lis2 = [1, 3]\n",
    "for x in lis2:\n",
    "    if x in lis:\n",
    "        print(x, 'is in the', lis)\n",
    "    else:\n",
    "        print(x, 'is not in the', lis)"
   ]
  },
  {
   "cell_type": "markdown",
   "metadata": {},
   "source": [
    "2개 이상의 리스트를 합쳐 새로운 리스트를 만들 경우 '+' 연산과 extend 메소드를 사용하는 방법 2가지가 있음. '+' 연산은 새 리스트를 만들고 난 후 값을 복사하지만, extend 메소드는 기존 리스트에 값을 추가하는 방식. 따라서 extend 메소드를 사용하는 것이 처리 속도 측면에서 유리."
   ]
  },
  {
   "cell_type": "code",
   "execution_count": 56,
   "metadata": {},
   "outputs": [
    {
     "data": {
      "text/plain": [
       "[1, 2, 3, 4, 5, 6, 7, 8, 9, 10]"
      ]
     },
     "execution_count": 56,
     "metadata": {},
     "output_type": "execute_result"
    }
   ],
   "source": [
    "lis_a = [1, 2, 3, 4, 5]\n",
    "lis_b = [6, 7, 8, 9, 10]\n",
    "new_lis = lis_a + lis_b\n",
    "#new_lis = lis_b + lis_a\n",
    "new_lis"
   ]
  },
  {
   "cell_type": "code",
   "execution_count": 57,
   "metadata": {},
   "outputs": [
    {
     "data": {
      "text/plain": [
       "[1, 2, 3, 4, 5, 6, 7, 8, 9, 10]"
      ]
     },
     "execution_count": 57,
     "metadata": {},
     "output_type": "execute_result"
    }
   ],
   "source": [
    "lis_a.extend(lis_b)\n",
    "lis_a\n",
    "#lis_b.extend(lis_a)\n",
    "#lis_b"
   ]
  },
  {
   "cell_type": "code",
   "execution_count": 60,
   "metadata": {},
   "outputs": [],
   "source": [
    "#random 라이브러리에 포함되어 있는 shuffle 메소드를 사용하여, 리스트의 원소를 섞어보자(shuffle).\n",
    "import random\n",
    "\n",
    "random.shuffle(lis_a)"
   ]
  },
  {
   "cell_type": "code",
   "execution_count": 71,
   "metadata": {},
   "outputs": [],
   "source": [
    "#마구 뒤섞은 결과는?\n",
    "#lis_a"
   ]
  },
  {
   "cell_type": "code",
   "execution_count": 70,
   "metadata": {},
   "outputs": [],
   "source": [
    "#정렬해 보자\n",
    "lis_a.sort()\n",
    "#lis_a"
   ]
  },
  {
   "cell_type": "code",
   "execution_count": 72,
   "metadata": {},
   "outputs": [],
   "source": [
    "lis_a.sort(reverse=True) # reverse 옵션을 True로 설정하면 정렬 결과는?\n",
    "#lis_a"
   ]
  },
  {
   "cell_type": "markdown",
   "metadata": {},
   "source": [
    "# 3. Dictionary"
   ]
  },
  {
   "cell_type": "markdown",
   "metadata": {},
   "source": [
    "dictionary는 associated array라고도 함. 각 원소가 key-value쌍으로 이루어짐. 여기서 중요한 것은 key. key는 그 값을 변경할 수 없어야 하며, 중복되지 않아야 함(hashable해야 함)."
   ]
  },
  {
   "cell_type": "code",
   "execution_count": 92,
   "metadata": {},
   "outputs": [],
   "source": [
    "dict = {} # 초기화\n",
    "dict = {'a':1357, 'b':2468}\n",
    "#dict"
   ]
  },
  {
   "cell_type": "code",
   "execution_count": 93,
   "metadata": {},
   "outputs": [
    {
     "data": {
      "text/plain": [
       "1357"
      ]
     },
     "execution_count": 93,
     "metadata": {},
     "output_type": "execute_result"
    }
   ],
   "source": [
    "dict['a']  # key를 참조하면 key에 해당하는 값(value)를 알 수 있음.\n",
    "#dict['b']"
   ]
  },
  {
   "cell_type": "code",
   "execution_count": 94,
   "metadata": {},
   "outputs": [
    {
     "data": {
      "text/plain": [
       "dict_keys(['a', 'b'])"
      ]
     },
     "execution_count": 94,
     "metadata": {},
     "output_type": "execute_result"
    }
   ],
   "source": [
    "dict.keys()\n",
    "#key_list = list(dict.keys())  # dictionary의 key를 리스트로 만들 수 있음\n",
    "#key_list"
   ]
  },
  {
   "cell_type": "code",
   "execution_count": 95,
   "metadata": {},
   "outputs": [
    {
     "data": {
      "text/plain": [
       "dict_values([1357, 2468])"
      ]
     },
     "execution_count": 95,
     "metadata": {},
     "output_type": "execute_result"
    }
   ],
   "source": [
    "dict.values()\n",
    "#val_list = list(dict.values())  # dictionary의 value를 리스트로 만들 수 있음\n",
    "#val_list"
   ]
  },
  {
   "cell_type": "code",
   "execution_count": 96,
   "metadata": {},
   "outputs": [
    {
     "data": {
      "text/plain": [
       "{'a': 1357, 'b': 2468, 'c': 3579}"
      ]
     },
     "execution_count": 96,
     "metadata": {},
     "output_type": "execute_result"
    }
   ],
   "source": [
    "# 새로운 key-value 쌍을 기존 dictionary 객체에 추가할 수 있음\n",
    "# dict[key] = value\n",
    "dict['c'] = 3579 \n",
    "dict"
   ]
  },
  {
   "cell_type": "code",
   "execution_count": 97,
   "metadata": {},
   "outputs": [
    {
     "data": {
      "text/plain": [
       "{'a': 1357, 'b': 2468, 'c': 'Hi, python!'}"
      ]
     },
     "execution_count": 97,
     "metadata": {},
     "output_type": "execute_result"
    }
   ],
   "source": [
    "# 전혀 다른 타입의 value로 변경할 수 있음.\n",
    "dict['c'] = 'Hi, python!' \n",
    "dict"
   ]
  },
  {
   "cell_type": "code",
   "execution_count": 98,
   "metadata": {},
   "outputs": [
    {
     "data": {
      "text/plain": [
       "{'a': 1357, 'b': 2468, 'c': 'Hi, python!', 'd': 'new string', 'e': 9999}"
      ]
     },
     "execution_count": 98,
     "metadata": {},
     "output_type": "execute_result"
    }
   ],
   "source": [
    "#update 메소드를 사용하여 다른 dictionary 객체 내용을 추가할 수 있음.\n",
    "other_dict = {'d':'new string', 'e':9999}\n",
    "dict.update(other_dict)\n",
    "dict"
   ]
  },
  {
   "cell_type": "code",
   "execution_count": 99,
   "metadata": {},
   "outputs": [
    {
     "data": {
      "text/plain": [
       "{'a': 1357, 'b': 2468, 'd': 'new string', 'e': 9999}"
      ]
     },
     "execution_count": 99,
     "metadata": {},
     "output_type": "execute_result"
    }
   ],
   "source": [
    "# dictionary 객체의 원소(key-value)를 없애기 전에 해당 key가 있는지 먼저 확인\n",
    "# 원소를 삭제할 경우 key만 지정\n",
    "if 'c' in dict:\n",
    "    del dict['c']\n",
    "else:\n",
    "    print('Error: key not found!')\n",
    "\n",
    "dict    \n",
    "#dict.keys()"
   ]
  },
  {
   "cell_type": "code",
   "execution_count": 100,
   "metadata": {},
   "outputs": [
    {
     "data": {
      "text/plain": [
       "{'a': 1357, 'b': 2468, 'e': 9999}"
      ]
     },
     "execution_count": 100,
     "metadata": {},
     "output_type": "execute_result"
    }
   ],
   "source": [
    "dict.pop('d')  # del과 기능은 비슷.\n",
    "dict"
   ]
  },
  {
   "cell_type": "code",
   "execution_count": 101,
   "metadata": {},
   "outputs": [
    {
     "data": {
      "text/plain": [
       "{'a': 1357, 'b': 2468}"
      ]
     },
     "execution_count": 101,
     "metadata": {},
     "output_type": "execute_result"
    }
   ],
   "source": [
    "dict.pop('e')\n",
    "dict"
   ]
  },
  {
   "cell_type": "markdown",
   "metadata": {},
   "source": [
    "hash 가능 여부를 hash 함수를 사용해 확인할 수 있음."
   ]
  },
  {
   "cell_type": "code",
   "execution_count": 103,
   "metadata": {},
   "outputs": [
    {
     "data": {
      "text/plain": [
       "5290504433221312204"
      ]
     },
     "execution_count": 103,
     "metadata": {},
     "output_type": "execute_result"
    }
   ],
   "source": [
    "hash('a')   #dictioanry 객체의 key는 hash 가능. 즉 고유한 key를 반환."
   ]
  },
  {
   "cell_type": "markdown",
   "metadata": {},
   "source": [
    "# 4. Set"
   ]
  },
  {
   "cell_type": "markdown",
   "metadata": {},
   "source": [
    "set은 중복되지 않은 원소 값을 갖는 자료형. set 함수 또는 { }를 사용해서 만듦.\n",
    "- set은 dictionary처럼 중괄호를 사용. set과 dictionary는 사촌 관계. set은 dictionary에서 value가 없이 key만 갖고 있는 형태. \n",
    "- 따라서 set에 속한 원소는 dictionary의 key처럼 hash가능해야 하기 때문에, 원칙적으로 tuple처럼 원소를 변경할 수 없어야(immutable) 함. "
   ]
  },
  {
   "cell_type": "code",
   "execution_count": 106,
   "metadata": {},
   "outputs": [
    {
     "data": {
      "text/plain": [
       "[1, 2, 2, 3, 3, 3]"
      ]
     },
     "execution_count": 106,
     "metadata": {},
     "output_type": "execute_result"
    }
   ],
   "source": [
    "dup_list = [1, 2, 2, 3, 3, 3] #중복 원소를 갖는 리스트\n",
    "dup_list"
   ]
  },
  {
   "cell_type": "code",
   "execution_count": 111,
   "metadata": {},
   "outputs": [
    {
     "data": {
      "text/plain": [
       "{1, 2, 3}"
      ]
     },
     "execution_count": 111,
     "metadata": {},
     "output_type": "execute_result"
    }
   ],
   "source": [
    "set(dup_list)\n",
    "#{1, 2, 2, 3, 3, 3}  #중괄호로 묶어도 set을 의미"
   ]
  },
  {
   "cell_type": "markdown",
   "metadata": {},
   "source": [
    "set은 단어 뜻 그대로 집합이기 때문에, 합집합(union), 교집합(intersection), 차집합(difference) 등 집합 연산이 가능."
   ]
  },
  {
   "cell_type": "code",
   "execution_count": 141,
   "metadata": {},
   "outputs": [],
   "source": [
    "set_a = {1, 2, 3, 4, 5}\n",
    "set_b = {3, 7, 5, 4, 6} "
   ]
  },
  {
   "cell_type": "code",
   "execution_count": 129,
   "metadata": {},
   "outputs": [],
   "source": [
    "#기존 집합(set_a)의 원소를 그대로 갖는 새로운 집합(set_c)을 만들려면, 아래 방법 중 어느 것이 정확한 방법일까?\n",
    "#set_c = set_a  #1번 방법\n",
    "#set_c = set_a.copy()  # 2번 방법"
   ]
  },
  {
   "cell_type": "code",
   "execution_count": 122,
   "metadata": {},
   "outputs": [],
   "source": [
    "#아래 비교 연산 결과는?\n",
    "#set_b == {3, 4, 5, 6, 7}"
   ]
  },
  {
   "cell_type": "code",
   "execution_count": 142,
   "metadata": {},
   "outputs": [
    {
     "data": {
      "text/plain": [
       "{1, 2, 3, 4, 5, 6, 7}"
      ]
     },
     "execution_count": 142,
     "metadata": {},
     "output_type": "execute_result"
    }
   ],
   "source": [
    "set_a.union(set_b) \n",
    "#set_b.union(set_a)  #합집합은 교환법칙이 성립 "
   ]
  },
  {
   "cell_type": "code",
   "execution_count": 143,
   "metadata": {},
   "outputs": [
    {
     "data": {
      "text/plain": [
       "{1, 2, 3, 4, 5, 6, 7}"
      ]
     },
     "execution_count": 143,
     "metadata": {},
     "output_type": "execute_result"
    }
   ],
   "source": [
    "set_a | set_b \n",
    "#set_b | set_a "
   ]
  },
  {
   "cell_type": "code",
   "execution_count": 144,
   "metadata": {},
   "outputs": [
    {
     "name": "stdout",
     "output_type": "stream",
     "text": [
      "before {1, 2, 3, 4, 5}\n",
      "after {1, 2, 3, 4, 5, 6, 7}\n"
     ]
    }
   ],
   "source": [
    "print('before', set_a)\n",
    "set_a |= set_b\n",
    "print('after', set_a)"
   ]
  },
  {
   "cell_type": "code",
   "execution_count": 145,
   "metadata": {},
   "outputs": [
    {
     "data": {
      "text/plain": [
       "{3, 4, 5, 6, 7}"
      ]
     },
     "execution_count": 145,
     "metadata": {},
     "output_type": "execute_result"
    }
   ],
   "source": [
    "set_a.intersection(set_b)\n",
    "#set_a & set_b  \n",
    "#set_b & set_a #교집합도 교환법칙이 성립"
   ]
  },
  {
   "cell_type": "code",
   "execution_count": 146,
   "metadata": {},
   "outputs": [],
   "source": [
    "#공집합을 만들려면?\n",
    "set_a = {}    \n",
    "#set_a.clear()  #clear 메소드를 호출해도 됨."
   ]
  },
  {
   "cell_type": "code",
   "execution_count": 153,
   "metadata": {},
   "outputs": [
    {
     "data": {
      "text/plain": [
       "True"
      ]
     },
     "execution_count": 153,
     "metadata": {},
     "output_type": "execute_result"
    }
   ],
   "source": [
    "super_set = {1, 2, 3, 4, 5}\n",
    "sub_set = {1, 2, 3}\n",
    "sub_set.issubset(super_set)\n",
    "#super_set.issubset(sub_set)"
   ]
  },
  {
   "cell_type": "code",
   "execution_count": 151,
   "metadata": {},
   "outputs": [
    {
     "data": {
      "text/plain": [
       "True"
      ]
     },
     "execution_count": 151,
     "metadata": {},
     "output_type": "execute_result"
    }
   ],
   "source": [
    "super_set.issuperset(sub_set)\n",
    "#sub_set.issuperset(super_set)"
   ]
  },
  {
   "cell_type": "code",
   "execution_count": null,
   "metadata": {},
   "outputs": [],
   "source": []
  }
 ],
 "metadata": {
  "kernelspec": {
   "display_name": "Python 3",
   "language": "python",
   "name": "python3"
  },
  "language_info": {
   "codemirror_mode": {
    "name": "ipython",
    "version": 3
   },
   "file_extension": ".py",
   "mimetype": "text/x-python",
   "name": "python",
   "nbconvert_exporter": "python",
   "pygments_lexer": "ipython3",
   "version": "3.7.6"
  }
 },
 "nbformat": 4,
 "nbformat_minor": 2
}
