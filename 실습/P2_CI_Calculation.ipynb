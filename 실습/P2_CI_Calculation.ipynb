{
 "cells": [
  {
   "cell_type": "code",
   "execution_count": 1,
   "metadata": {},
   "outputs": [
    {
     "name": "stdout",
     "output_type": "stream",
     "text": [
      "0.2579\n"
     ]
    }
   ],
   "source": [
    "#!/usr/bin/env python3\n",
    "# -*- coding: utf-8 -*-\n",
    "\"\"\"\n",
    "Created on Thu Aug  6 17:56:14 2020\n",
    "\n",
    "@author: navin\n",
    "\"\"\"\n",
    "import numpy as np\n",
    "import os \n",
    "import cv2\n",
    "import matplotlib.pyplot as plt\n",
    "\n",
    "#Boudary Value Defined \n",
    "lower_r = np.array([0,0,249]).astype('uint8')          # 적색의 낮은 수치\n",
    "lower_g = np.array([57, 190, 14]).astype('uint8')      # 녹색의 낮은 수치\n",
    "lower_y = np.array([0, 198, 255]).astype('uint8')      # 황색의 낮은 수치\n",
    "\n",
    "upper_r = np.array([128,128,252]).astype('uint8')      # 적생의 높은 수치\n",
    "upper_g = np.array([107, 206, 74]).astype('uint8')     # 녹색의 높은 수치\n",
    "upper_y = np.array([128, 227, 255]).astype('uint8')    # 황색의 높은 수치\n",
    "#%%\n",
    "\n",
    "input_img = cv2.imread('P2_Input_Image.png')           # 이미지 인식\n",
    "\n",
    "mask_r = cv2.inRange(input_img, lower_r, upper_r)      # 적색 여부 검출(마스크)\n",
    "mask_g = cv2.inRange(input_img, lower_g, upper_g)      # 녹색 여부 검출(마스크)\n",
    "mask_y = cv2.inRange(input_img, lower_y, upper_y)      # 황색 여부 검출(마스크)\n",
    "red = np.where(mask_r != 0)                            # 적색 픽셀 위치 생성\n",
    "red = len(red[0])                                      # 적색 픽셀 수\n",
    "\n",
    "green = np.where(mask_g != 0)                          # 녹색 픽셀 위치 생성\n",
    "green = len(green[0])                                  # 녹색 픽셀 수\n",
    "\n",
    "yellow = np.where(mask_y != 0)                         # 황색 픽셀 위치 생성\n",
    "yellow = len(yellow[0])                                # 황색 픽셀 수\n",
    "\n",
    "total = red + green + yellow                           # 적색, 녹색, 황색 픽셀 수 합\n",
    "# congestion Index\n",
    "\n",
    "Ci = np.around(red/total, decimals = 4)                # CI 계산 (적색 픽셀 수/전체 픽셀 수)\n",
    "#%%\n",
    "\n",
    "print(Ci)                                              # print Ci\n"
   ]
  },
  {
   "cell_type": "code",
   "execution_count": null,
   "metadata": {},
   "outputs": [],
   "source": []
  }
 ],
 "metadata": {
  "kernelspec": {
   "display_name": "Python 3",
   "language": "python",
   "name": "python3"
  },
  "language_info": {
   "codemirror_mode": {
    "name": "ipython",
    "version": 3
   },
   "file_extension": ".py",
   "mimetype": "text/x-python",
   "name": "python",
   "nbconvert_exporter": "python",
   "pygments_lexer": "ipython3",
   "version": "3.8.3"
  }
 },
 "nbformat": 4,
 "nbformat_minor": 4
}
