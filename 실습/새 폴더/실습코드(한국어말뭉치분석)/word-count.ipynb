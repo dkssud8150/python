{
 "cells": [
  {
   "cell_type": "code",
   "execution_count": 1,
   "metadata": {},
   "outputs": [],
   "source": [
    "import codecs\n",
    "from bs4 import BeautifulSoup\n",
    "from konlpy.tag import Okt"
   ]
  },
  {
   "cell_type": "code",
   "execution_count": 2,
   "metadata": {},
   "outputs": [],
   "source": [
    "fp = codecs.open(\"2BEXXX01.txt\", \"r\", encoding=\"utf-8\") #토지 2권 - txt이지만 내용은 xml 태그 구조"
   ]
  },
  {
   "cell_type": "code",
   "execution_count": 3,
   "metadata": {},
   "outputs": [
    {
     "name": "stdout",
     "output_type": "stream",
     "text": [
      "\n",
      "제2편 추적과 음모\n",
      "14장 추적\n",
      "귀녀의 모습을 한번 쳐다보고 떠나려 했다. 집안을 이리저리 기웃거리던 강포수는 윤씨부인에게 인사를 올리고 중문을 나서는 치수 뒷모습을 보았다. 실\n"
     ]
    }
   ],
   "source": [
    "soup = BeautifulSoup(fp, \"html.parser\")\n",
    "body = soup.select_one(\"text > body\")\n",
    "text = body.getText()\n",
    "print(text[:100])"
   ]
  },
  {
   "cell_type": "markdown",
   "metadata": {},
   "source": [
    "# Counter 모듈"
   ]
  },
  {
   "cell_type": "markdown",
   "metadata": {},
   "source": [
    "Counter는 컬렉션(Collection)에 속한 모듈. Counter의 원소는 dictionary 형태 - key:원소, value: (발생)빈도. "
   ]
  },
  {
   "cell_type": "code",
   "execution_count": 4,
   "metadata": {},
   "outputs": [
    {
     "name": "stdout",
     "output_type": "stream",
     "text": [
      "a : 2\n",
      "b : 3\n",
      "c : 1\n",
      "d : 3\n",
      "e : 4\n",
      "f : 5\n",
      "\n",
      "원소= {'c', 'a', 'e', 'd', 'b', 'f'}\n"
     ]
    }
   ],
   "source": [
    "from collections import Counter\n",
    "\n",
    "s = 'aabbbcdddeeeefffff'\n",
    "\n",
    "container = Counter(s)\n",
    "#container\n",
    "for key, val in container.items():\n",
    "    print(key, ':', val)\n",
    "print()    \n",
    "print('원소=', set(container.elements()))"
   ]
  },
  {
   "cell_type": "code",
   "execution_count": 5,
   "metadata": {},
   "outputs": [
    {
     "data": {
      "text/plain": [
       "[('f', 5), ('e', 4), ('b', 3)]"
      ]
     },
     "execution_count": 5,
     "metadata": {},
     "output_type": "execute_result"
    }
   ],
   "source": [
    "container.most_common(3) #빈도 순으로 3개 원소를 출력"
   ]
  },
  {
   "cell_type": "code",
   "execution_count": 6,
   "metadata": {},
   "outputs": [],
   "source": [
    "nouns_tagger = Okt()\n",
    "word_dic = {}\n",
    "\n",
    "lines = text.split(\"\\r\\n\")\n",
    "for line in lines:\n",
    "    noun_list = nouns_tagger.nouns(line)\n",
    "    for word in noun_list:\n",
    "        if not (word in word_dic):\n",
    "            word_dic[word] = 0\n",
    "        word_dic[word] += 1 "
   ]
  },
  {
   "cell_type": "code",
   "execution_count": 7,
   "metadata": {},
   "outputs": [
    {
     "name": "stdout",
     "output_type": "stream",
     "text": [
      "것(322) 그(217) 말(207) 치수(192) 포수(176) 강(174) 안(109) 수동(102) 사람(99) 생각(99) \n"
     ]
    }
   ],
   "source": [
    "#빈도 수를 기준으로 정렬\n",
    "keys = sorted(word_dic.items(), key=lambda x:x[1], reverse=True)  \n",
    "\n",
    "for word, count in keys[:10]:\n",
    "    print(\"{0}({1}) \".format(word, count), end=\"\")\n",
    "print()  "
   ]
  },
  {
   "cell_type": "code",
   "execution_count": 8,
   "metadata": {},
   "outputs": [
    {
     "data": {
      "text/plain": [
       "[('것', 322),\n",
       " ('그', 217),\n",
       " ('말', 207),\n",
       " ('치수', 192),\n",
       " ('포수', 176),\n",
       " ('강', 174),\n",
       " ('안', 109),\n",
       " ('수동', 102),\n",
       " ('사람', 99),\n",
       " ('생각', 99)]"
      ]
     },
     "execution_count": 8,
     "metadata": {},
     "output_type": "execute_result"
    }
   ],
   "source": [
    "from collections import Counter\n",
    "\n",
    "nouns_tagger = Okt()\n",
    "nouns_list = nouns_tagger.nouns(text)\n",
    "container2 = Counter(nouns_list)\n",
    "container2.most_common(10)"
   ]
  },
  {
   "cell_type": "code",
   "execution_count": 9,
   "metadata": {},
   "outputs": [
    {
     "data": {
      "text/plain": [
       "3695"
      ]
     },
     "execution_count": 9,
     "metadata": {},
     "output_type": "execute_result"
    }
   ],
   "source": [
    "len(container2)"
   ]
  },
  {
   "cell_type": "code",
   "execution_count": 10,
   "metadata": {},
   "outputs": [
    {
     "data": {
      "text/plain": [
       "[('치수', 192),\n",
       " ('포수', 176),\n",
       " ('수동', 102),\n",
       " ('사람', 99),\n",
       " ('생각', 99),\n",
       " ('얼굴', 72),\n",
       " ('소리', 72),\n",
       " ('용이', 62),\n",
       " ('서방', 60),\n",
       " ('우관', 58)]"
      ]
     },
     "execution_count": 10,
     "metadata": {},
     "output_type": "execute_result"
    }
   ],
   "source": [
    "# 한 글자인 단어를 제거\n",
    "new_container = Counter({ x : container2[x] for x in container2 if len(x) > 1})\n",
    "new_container.most_common(10)"
   ]
  },
  {
   "cell_type": "code",
   "execution_count": 11,
   "metadata": {},
   "outputs": [
    {
     "name": "stdout",
     "output_type": "stream",
     "text": [
      "3219\n"
     ]
    }
   ],
   "source": [
    "print(len(new_container))"
   ]
  },
  {
   "cell_type": "code",
   "execution_count": 12,
   "metadata": {},
   "outputs": [],
   "source": [
    "# https://www.ranks.nl/stopwords/korean\n",
    "kr_stopwords = \"kr_stopwords.txt\"\n",
    "\n",
    "with open(kr_stopwords, encoding='utf8') as f:\n",
    "    raw_list = f.readlines()\n",
    "stopword_list = [x.strip() for x in raw_list]"
   ]
  },
  {
   "cell_type": "code",
   "execution_count": 13,
   "metadata": {},
   "outputs": [
    {
     "name": "stdout",
     "output_type": "stream",
     "text": [
      "675\n"
     ]
    }
   ],
   "source": [
    "print(len(stopword_list))"
   ]
  },
  {
   "cell_type": "code",
   "execution_count": 14,
   "metadata": {},
   "outputs": [],
   "source": [
    "new_container = Counter({x:new_container[x] for x in new_container if x not in stopword_list})"
   ]
  },
  {
   "cell_type": "code",
   "execution_count": 15,
   "metadata": {},
   "outputs": [
    {
     "name": "stdout",
     "output_type": "stream",
     "text": [
      "3143\n"
     ]
    }
   ],
   "source": [
    "print(len(new_container))"
   ]
  },
  {
   "cell_type": "code",
   "execution_count": 16,
   "metadata": {},
   "outputs": [],
   "source": [
    "#for key, val in new_container.items():  \n",
    "#    print(key, ':', val, end=\"\")"
   ]
  },
  {
   "cell_type": "code",
   "execution_count": 17,
   "metadata": {},
   "outputs": [],
   "source": [
    "toji_stopwords = ['상위', '영영', '간혹', '아무', '여느', '무지', '우짜', '뚝딱', '오늘이', '가라', '아얏', \n",
    "                       '오냐', '종종', '와드득', '하는', '아니겄소', '곧잘', '겄너', '가야', '으이잉']\n",
    "\n",
    "for w in toji_stopwords:\n",
    "    stopword_list.append(w)"
   ]
  },
  {
   "cell_type": "code",
   "execution_count": 18,
   "metadata": {},
   "outputs": [
    {
     "name": "stdout",
     "output_type": "stream",
     "text": [
      "pygame 1.9.6\n",
      "Hello from the pygame community. https://www.pygame.org/contribute.html\n"
     ]
    }
   ],
   "source": [
    "import random\n",
    "import pytagcloud\n",
    "import webbrowser"
   ]
  },
  {
   "cell_type": "code",
   "execution_count": 19,
   "metadata": {},
   "outputs": [],
   "source": [
    "# 발생 빈도 순으로 40개 단어 선택 \n",
    "ranked_tags = new_container.most_common(40)\n",
    "\n",
    "# 워드 클라우드(pytagcloud)로 출력할 단어 리스트 : ranked_tags\n",
    "# 단어 최대 크기(maxsize): 80\n",
    "taglist = pytagcloud.make_tags(ranked_tags, maxsize=80)"
   ]
  },
  {
   "cell_type": "code",
   "execution_count": 20,
   "metadata": {},
   "outputs": [],
   "source": [
    "# 워드 클라우드 이미지 생성(wordcloud.jpg)\n",
    "# 폰트: NanumGothic\n",
    "pytagcloud.create_tag_image(taglist, 'wordcloud.jpg', size=(900, 600), \n",
    "                            fontname='NanumGothic', rectangular=False)"
   ]
  },
  {
   "cell_type": "code",
   "execution_count": 21,
   "metadata": {},
   "outputs": [
    {
     "data": {
      "image/jpeg": "[encoded data removed]",
      "text/plain": [
       "<IPython.core.display.Image object>"
      ]
     },
     "execution_count": 21,
     "metadata": {},
     "output_type": "execute_result"
    }
   ],
   "source": [
    "from IPython.display import Image\n",
    "Image(filename='wordcloud.jpg')"
   ]
  },
  {
   "cell_type": "code",
   "execution_count": 23,
   "metadata": {},
   "outputs": [],
   "source": [
    "from konlpy.corpus import kolaw\n",
    "\n",
    "text2 = kolaw.open('constitution.txt').read()"
   ]
  },
  {
   "cell_type": "code",
   "execution_count": 24,
   "metadata": {},
   "outputs": [
    {
     "data": {
      "text/plain": [
       "[('제', 175),\n",
       " ('법률', 127),\n",
       " ('정', 89),\n",
       " ('수', 88),\n",
       " ('대통령', 83),\n",
       " ('국가', 73),\n",
       " ('국회', 68),\n",
       " ('국민', 61),\n",
       " ('관', 58),\n",
       " ('때', 55)]"
      ]
     },
     "execution_count": 24,
     "metadata": {},
     "output_type": "execute_result"
    }
   ],
   "source": [
    "from collections import Counter\n",
    "\n",
    "nouns_tagger = Okt()\n",
    "nouns_list2 = nouns_tagger.nouns(text2)\n",
    "law_container = Counter(nouns_list2)\n",
    "law_container.most_common(10)"
   ]
  },
  {
   "cell_type": "code",
   "execution_count": 26,
   "metadata": {},
   "outputs": [
    {
     "data": {
      "text/plain": [
       "929"
      ]
     },
     "execution_count": 26,
     "metadata": {},
     "output_type": "execute_result"
    }
   ],
   "source": [
    "len(law_container)"
   ]
  },
  {
   "cell_type": "code",
   "execution_count": 27,
   "metadata": {},
   "outputs": [
    {
     "data": {
      "text/plain": [
       "[('법률', 127),\n",
       " ('대통령', 83),\n",
       " ('국가', 73),\n",
       " ('국회', 68),\n",
       " ('국민', 61),\n",
       " ('헌법', 53),\n",
       " ('모든', 37),\n",
       " ('기타', 26),\n",
       " ('사항', 23),\n",
       " ('권리', 21)]"
      ]
     },
     "execution_count": 27,
     "metadata": {},
     "output_type": "execute_result"
    }
   ],
   "source": [
    "# 한 글자인 단어를 제거\n",
    "law_container2 = Counter({ x : law_container[x] for x in law_container if len(x) > 1})\n",
    "law_container2.most_common(10)"
   ]
  },
  {
   "cell_type": "code",
   "execution_count": 28,
   "metadata": {},
   "outputs": [
    {
     "name": "stdout",
     "output_type": "stream",
     "text": [
      "850\n"
     ]
    }
   ],
   "source": [
    "print(len(law_container2))"
   ]
  },
  {
   "cell_type": "code",
   "execution_count": 29,
   "metadata": {},
   "outputs": [],
   "source": [
    "law_container2 = Counter({x:law_container2[x] for x in law_container2 if x not in stopword_list})"
   ]
  },
  {
   "cell_type": "code",
   "execution_count": 30,
   "metadata": {},
   "outputs": [
    {
     "name": "stdout",
     "output_type": "stream",
     "text": [
      "832\n"
     ]
    }
   ],
   "source": [
    "print(len(law_container2))"
   ]
  },
  {
   "cell_type": "code",
   "execution_count": 31,
   "metadata": {},
   "outputs": [
    {
     "name": "stdout",
     "output_type": "stream",
     "text": [
      "대한민국 : 11헌법 : 53유구 : 1역사 : 1전통 : 1국민 : 61운동 : 2건립 : 1임시정부 : 1통과 : 1불의 : 2항거 : 1민주 : 6이념 : 1계승 : 2조국 : 3개혁 : 1평화 : 6통일 : 6사명 : 2각하 : 1정의 : 1인도 : 1동포 : 1민족 : 3단결 : 1공고 : 3모든 : 37사회 : 8폐습 : 1타파 : 1자율 : 2조화 : 2바탕 : 1자유민주 : 2질서 : 8더욱 : 1정치 : 9경제 : 18문화 : 4영역 : 4각인 : 1기회 : 3능력 : 3최고 : 2도로 : 1발휘 : 1자유 : 20권리 : 21책임 : 5의무 : 18완수 : 1생활 : 8향상 : 5기하 : 1항구 : 1세계 : 1인류 : 1공영 : 1이바지 : 1자손 : 1안전 : 1행복 : 2확보 : 1다짐 : 1제정 : 8개정 : 6이제 : 1국회 : 68의결 : 17국민투표 : 7민주공화국 : 1주권 : 2권력 : 1요건 : 1법률 : 127국가 : 73재외국민 : 1보호 : 14영토 : 2한반도 : 1부속 : 1도서 : 1지향 : 1입각 : 1정책 : 14수립 : 7추진 : 1국제 : 4유지 : 7노력 : 13침략 : 1전쟁 : 1부인 : 1국군 : 4안전보장 : 10국토 : 3방위 : 1수행 : 4중립성 : 3준수 : 2체결 : 4공포 : 10조약 : 11일반 : 2승인 : 6법규 : 1국내법 : 1효력 : 9외국인 : 1지위 : 3보장 : 13공무원 : 17전체 : 1대한 : 10봉사자 : 1대하 : 9신분 : 3정당 : 14설립 : 1복수정당제 : 1목적 : 4조직 : 18활동 : 3의사 : 2형성 : 1참여 : 1운영 : 5자금 : 1보조 : 1위배 : 2정부 : 20헌법재판소 : 14해산 : 5제소 : 3심판 : 10전통문화 : 1발전 : 5창달 : 2인간 : 3존엄 : 2가치 : 1가지 : 2추구 : 1개인 : 3불가침 : 1기본 : 5인권 : 1확인 : 1성별 : 1종교 : 3차별 : 2특수 : 1계급 : 1제도 : 4인정 : 8형태 : 1창설 : 1훈장 : 2영전 : 3특권 : 1신체 : 3체포 : 9구속 : 8압수 : 3수색 : 3심문 : 1절차 : 9처벌 : 3보안처분 : 1강제 : 1노역 : 1고문 : 2형사 : 9진술 : 5강요 : 1검사 : 4신청 : 2법관 : 15발부 : 2영장 : 4제시 : 2현행범인 : 3경우 : 17장기 : 2해당 : 1도피 : 1증거 : 3염려 : 2사후 : 1청구 : 6당한 : 3변호인 : 4조력 : 2피고인 : 6스스로 : 1이유 : 7고지 : 1자의 : 2가족 : 2일시 : 1장소 : 1지체 : 6통지 : 1부의 : 3심사 : 5법원 : 12자백 : 2폭행 : 1협박 : 1방법 : 4정식 : 1재판 : 11유죄 : 2행위 : 7범죄 : 4구성 : 8거듭 : 1소급입법 : 1참정권 : 1제한 : 7재산권 : 4박탈 : 1친족 : 1불이익 : 2처우 : 2거주 : 1이전 : 1직업 : 1선택 : 1주거 : 3침해 : 6사생활 : 1비밀 : 2통신 : 2양심 : 3국교 : 1분리 : 1언론 : 5출판 : 5집회 : 12결사 : 3허가 : 2검열 : 1방송 : 1시설 : 2기준 : 2신문 : 1기능 : 1사항 : 23명예 : 2공중도덕 : 1윤리 : 1피해자 : 2피해 : 2배상 : 3학문 : 1예술 : 1저작자 : 1발명가 : 1과학기술 : 2예술가 : 1내용 : 5한계 : 1행사 : 3복리 : 4공공필요 : 1수용 : 1사용 : 1보상 : 4지급 : 1선거권 : 3공무 : 1담임 : 1기관 : 7문서 : 3청원 : 3군인 : 5군무원 : 3군사 : 6기밀 : 1초병 : 2초소 : 2유독 : 2음식물 : 2공급 : 2포로 : 2군용 : 1비상계엄 : 4선포 : 4제외 : 5군사법원 : 4공개 : 7판결 : 3확정 : 8무죄 : 1추정 : 1사건 : 1피의자 : 1구금 : 3자가 : 3불기소처분 : 1무죄판결 : 1직무 : 19불법행위 : 2손해 : 2단체 : 4면제 : 2경찰 : 1전투 : 1훈련 : 1집행 : 4관련 : 2생명 : 1구조 : 2교육 : 4자녀 : 1초등교육 : 1의무교육 : 1무상 : 1자주성 : 1전문성 : 1대학 : 1자율성 : 1평생교육 : 2진흥 : 1학교 : 1포함 : 2교육제도 : 1교육재정 : 1교원 : 1근로 : 9근로자 : 4고용 : 2증진 : 3적정 : 1임금 : 2최저임금제 : 1시행 : 10조건 : 4민주주의 : 1원칙 : 2존엄성 : 1여자 : 2연소자 : 1유공 : 1상이 : 1군경 : 1전몰 : 1경의 : 1유가족 : 1부여 : 1자주 : 1단결권 : 2단체교섭권 : 2단체행동권 : 3방위산업 : 1종사 : 1거나 : 13다운 : 1사회보장 : 1복지 : 3권익 : 1노인 : 1청소년 : 1실시 : 3장애자 : 1질병 : 1노령 : 1사유 : 3재해 : 1예방 : 1위험 : 1환경 : 1환경보전 : 1환경권 : 1주택 : 1개발 : 6혼인 : 1양성 : 1평등 : 3기초 : 1성립 : 1모성 : 1보건 : 1열거 : 1경시 : 1본질 : 1납세 : 1국방 : 3병역의무 : 1이행 : 2입법권 : 1보통 : 2직접 : 2비밀선거 : 2선출 : 7국회의원 : 18선거구 : 1비례대표제 : 1선거 : 20임기 : 18동의 : 11기전 : 1요구 : 13석방 : 1발언 : 2표결 : 1지지 : 1청렴 : 1이익 : 3남용 : 2기업체 : 3계약 : 3처분 : 9재산 : 2상의 : 8직위 : 1취득 : 2알선 : 1정기회 : 2매년 : 2임시회 : 4대통령 : 83재적 : 14의원 : 21초과 : 1기간 : 5명시 : 1의장 : 5인과 : 2규정 : 6과반수 : 12출석 : 12찬성 : 12가부 : 1수인 : 1부결 : 1회의 : 14공표 : 1제출 : 8의안 : 1폐기 : 1만료 : 3이송 : 2이내 : 6이의 : 2항의 : 14환부 : 1재의 : 5폐회 : 1일부 : 1수정 : 1붙이 : 1전과 : 1로서 : 4국회의장 : 1날로 : 2경과 : 1발생 : 2예산안 : 5심의 : 5회계 : 6연도 : 5편성 : 3개시 : 5경비 : 2년도 : 2예산 : 5설치 : 5법률상 : 1지출 : 4사업 : 1계속 : 4필요 : 5연한 : 1비비 : 2차기 : 1변경 : 3추가경정예산 : 1각항 : 1금액 : 1증가 : 1비목 : 1국채 : 1모집 : 1부담 : 4미리 : 1조세 : 1종목 : 1세율 : 1상호 : 3원조 : 1우호 : 1통상 : 1항해 : 1제약 : 1강화조약 : 1재정 : 5입법 : 1비준 : 2선전포고 : 2외국 : 3파견 : 2군대 : 1주류 : 1국정 : 8감사 : 6사안 : 1조사 : 2서류 : 1증인 : 1증언 : 1의견 : 3국정감사 : 1국무총리 : 19국무위원 : 17정부위원 : 3위원회 : 9처리 : 6상황 : 2질문 : 1응답 : 1답변 : 2해임 : 3건의 : 3발의 : 4저촉 : 4범위 : 16내부 : 4규율 : 4규칙 : 6자격 : 6징계 : 1제명 : 1행정각부 : 9재판관 : 10중앙 : 3관리 : 14위원 : 10감사원장 : 2배한 : 1탄핵 : 11권한 : 11정지 : 1결정 : 6공직 : 1파면 : 4민사 : 1원수 : 1대표 : 1독립 : 2보전 : 2성과 : 1수호 : 1책무 : 1행정권 : 1수반 : 1득표 : 2이상인 : 1당선자 : 2후보자 : 2인일 : 1수가 : 1총수 : 1당선 : 1피선거권 : 1선거일 : 1현재 : 1내지 : 1후임 : 4궐위 : 2사망 : 1취임 : 1즈음 : 1선서 : 2보위 : 2직책 : 1중임 : 6사고 : 1순서 : 1대행 : 1외교 : 1안위 : 2중요 : 4외교사절 : 1신임 : 1접수 : 1강화 : 2통수 : 1구체 : 1위임 : 3대통령령 : 3외환 : 2천재 : 1위기 : 1공공 : 2안녕 : 3조치 : 3여유 : 1최소한 : 1명령 : 9관계 : 4교전 : 1상태 : 1보고 : 2얻지 : 2폐지 : 1전시 : 1사변 : 1비상 : 1사태 : 1병력 : 1계엄 : 5경비계엄 : 1통고 : 1해제 : 3사면 : 4감형 : 3복권 : 3수여 : 2서한 : 1표시 : 1국법 : 1부서 : 1공사 : 1내란 : 1범한 : 1재직 : 1전직 : 1예우 : 1행정부 : 1임명 : 20보좌 : 2행정 : 1현역 : 2제청 : 6국무회의 : 7구성원 : 1이하 : 2계획 : 5선전 : 1대외 : 3개정안 : 5결산 : 3국유재산 : 1긴급 : 2획정 : 1배정 : 1평가 : 1분석 : 1조정 : 3회부 : 1검찰총장 : 1합동 : 1참모 : 1참모총장 : 1국립 : 1대학교 : 1총장 : 1대사 : 1국영 : 1관리자 : 1자문 : 8원로 : 1직전 : 2지명 : 3국내 : 1앞서 : 1주재 : 1평화통일 : 3소관 : 1사무 : 8직권 : 1총리 : 1부령 : 1감사원 : 5세입 : 2행정기관 : 3감찰 : 1소속 : 1원장 : 3결과 : 1대상 : 1사법권 : 1최고법원 : 1대법원 : 17대법관 : 7정년 : 1금고 : 3선고 : 4징계처분 : 1정직 : 1감봉 : 1심신 : 1장해 : 1퇴직 : 1위반 : 2전제 : 2최종 : 1전심 : 1행정심판 : 2사법 : 1준용 : 1소송 : 1심리 : 2풍속 : 1군사재판 : 2관할 : 2특별법 : 1상고 : 1하의 : 1간첩죄 : 1단심 : 1사형 : 1관장 : 1지방자치단체 : 7쟁의 : 1헌법소원 : 2인의 : 2가입 : 2관여 : 2인용 : 1위원장 : 1호선 : 1법령 : 3선거인명부 : 1작성 : 1지시 : 2선거운동 : 1지방자치 : 1주민 : 1자치 : 1종류 : 1의회 : 1지방의회 : 1장의 : 1선임 : 4기업 : 2창의 : 1존중 : 1균형 : 5성장 : 1안정 : 2소득 : 1분배 : 1시장 : 1지배 : 1경제력 : 1방지 : 1주체 : 1통한 : 1민주화 : 1규제 : 2광물 : 1지하자원 : 1수산 : 1자원 : 2수력 : 1이용 : 5자연력 : 1채취 : 1특허 : 1농지 : 4전의 : 1달성 : 2금지 : 1농업 : 2생산 : 2성의 : 1합리 : 1사정 : 1임대차 : 1위탁 : 1경영 : 2기반 : 1효율 : 1어업 : 1육성 : 5어촌 : 1종합 : 1지원 : 1지역 : 2중소기업 : 2농수산 : 1물의 : 1수급 : 1유통 : 1개선 : 1가격 : 1모함 : 1어민 : 2소비 : 1도하 : 1생산품 : 1품질 : 1촉구 : 1소비자보호 : 1무역 : 1국유 : 1공유 : 1전하 : 1통제 : 1혁신 : 1정보 : 1인력 : 1표준 : 1확립 : 1기구 : 1정은 : 3제안 : 3연장 : 1당시 : 6투표 : 2부칙 : 2보기 : 1준비 : 1최초 : 7대통령선거 : 1시행일 : 2국회의원선거 : 2공포일 : 1일로 : 1전일 : 2임원 : 1임자 : 1대법원판사 : 1단서 : 1불구 : 1적용 : 1지속 : 1존속 : 1"
     ]
    }
   ],
   "source": [
    "for key, val in law_container2.items():  \n",
    "    print(key, ':', val, end=\"\")"
   ]
  },
  {
   "cell_type": "code",
   "execution_count": 38,
   "metadata": {},
   "outputs": [],
   "source": [
    "law_stopwords = ['모든', '더욱', '이제', '당한', '앞서', '통한', '거나',\n",
    "                 '이하', '내지', '이리', '로서', '유독', '거듭']\n",
    "\n",
    "for w in law_stopwords:\n",
    "    stopword_list.append(w)"
   ]
  },
  {
   "cell_type": "code",
   "execution_count": 39,
   "metadata": {},
   "outputs": [],
   "source": [
    "law_container2 = Counter({x:law_container2[x] for x in law_container2 if x not in stopword_list})"
   ]
  },
  {
   "cell_type": "code",
   "execution_count": 40,
   "metadata": {},
   "outputs": [
    {
     "name": "stdout",
     "output_type": "stream",
     "text": [
      "820\n"
     ]
    }
   ],
   "source": [
    "print(len(law_container2))"
   ]
  },
  {
   "cell_type": "code",
   "execution_count": 41,
   "metadata": {},
   "outputs": [],
   "source": [
    "# 발생 빈도 순으로 40개 단어 선택 \n",
    "ranked_tags = law_container2.most_common(40)\n",
    "\n",
    "# 워드 클라우드(pytagcloud)로 출력할 단어 리스트 : ranked_tags\n",
    "# 단어 최대 크기(maxsize): 80\n",
    "taglist = pytagcloud.make_tags(ranked_tags, maxsize=80)"
   ]
  },
  {
   "cell_type": "code",
   "execution_count": 42,
   "metadata": {},
   "outputs": [],
   "source": [
    "# 워드 클라우드 이미지 생성(wordcloud.jpg)\n",
    "# 폰트: NanumGothic\n",
    "pytagcloud.create_tag_image(taglist, 'wordcloud2.jpg', size=(900, 600), \n",
    "                            fontname='NanumGothic', rectangular=False)"
   ]
  },
  {
   "cell_type": "code",
   "execution_count": 43,
   "metadata": {},
   "outputs": [
    {
     "data": {
      "image/jpeg": "[encoded data removed]",
      "text/plain": [
       "<IPython.core.display.Image object>"
      ]
     },
     "execution_count": 43,
     "metadata": {},
     "output_type": "execute_result"
    }
   ],
   "source": [
    "from IPython.display import Image\n",
    "Image(filename='wordcloud2.jpg')"
   ]
  },
  {
   "cell_type": "code",
   "execution_count": null,
   "metadata": {},
   "outputs": [],
   "source": []
  }
 ],
 "metadata": {
  "kernelspec": {
   "display_name": "Python 3",
   "language": "python",
   "name": "python3"
  },
  "language_info": {
   "codemirror_mode": {
    "name": "ipython",
    "version": 3
   },
   "file_extension": ".py",
   "mimetype": "text/x-python",
   "name": "python",
   "nbconvert_exporter": "python",
   "pygments_lexer": "ipython3",
   "version": "3.7.6"
  }
 },
 "nbformat": 4,
 "nbformat_minor": 2
}
