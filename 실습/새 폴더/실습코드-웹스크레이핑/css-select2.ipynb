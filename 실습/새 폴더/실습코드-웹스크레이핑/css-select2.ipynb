{
 "cells": [
  {
   "cell_type": "code",
   "execution_count": 1,
   "metadata": {},
   "outputs": [],
   "source": [
    "from bs4 import BeautifulSoup"
   ]
  },
  {
   "cell_type": "code",
   "execution_count": 42,
   "metadata": {},
   "outputs": [],
   "source": [
    "fp = open(\"vegetables.html\", encoding=\"utf-8\")\n",
    "soup = BeautifulSoup(fp, \"html.parser\")"
   ]
  },
  {
   "cell_type": "code",
   "execution_count": 57,
   "metadata": {},
   "outputs": [],
   "source": [
    "sel = lambda q : print(soup.select_one(q).string)\n",
    "sel_1st = lambda q : print(soup.select(q)[0].string)\n",
    "sel_2nd = lambda q : print(soup.select(q)[1].string)\n",
    "check_null = lambda x: print(x.string) if x  else print('not found')"
   ]
  },
  {
   "cell_type": "code",
   "execution_count": 61,
   "metadata": {},
   "outputs": [
    {
     "name": "stdout",
     "output_type": "stream",
     "text": [
      "레몬\n"
     ]
    }
   ],
   "source": [
    "# 한 개의 list에만 적용 가능. list 범위 초과.\n",
    "# run-time error 발생.\n",
    "t = soup.select_one(\"li:nth-of-type(3)\")\n",
    "check_null(t)\n",
    "#t2 = soup.select_one(\"ul#fruits-list > li:nth-of-type(3)\")\n",
    "#check_null(t2)\n",
    "#t3 = soup.select_one(\"ul#vegetable-list > li:nth-of-type(3)\")\n",
    "#check_null(t3)"
   ]
  },
  {
   "cell_type": "code",
   "execution_count": 62,
   "metadata": {},
   "outputs": [
    {
     "name": "stdout",
     "output_type": "stream",
     "text": [
      "레몬\n",
      "포도\n",
      "레몬\n",
      "가지\n",
      "아보카도\n"
     ]
    }
   ],
   "source": [
    "sel(\"ul#fruits-list > li:nth-of-type(3)\")\n",
    "sel_1st(\"ul#fruits-list > li[data-lo='us']\")\n",
    "sel_2nd(\"ul#fruits-list > li[data-lo='us']\")\n",
    "sel_1st(\"#vegetable-list > li.black\")\n",
    "sel_2nd(\"#vegetable-list > li.black\")"
   ]
  },
  {
   "cell_type": "code",
   "execution_count": 66,
   "metadata": {},
   "outputs": [
    {
     "name": "stdout",
     "output_type": "stream",
     "text": [
      "아보카도\n",
      "파프리카\n"
     ]
    }
   ],
   "source": [
    "cond = {\"data-lo\":\"us\", \"class\":\"black\"}\n",
    "cond2 = {\"data-lo\":\"us\", \"class\":\"red green\"}\n",
    "print(soup.find(\"li\", cond).string)\n",
    "print(soup.find(\"li\", cond2).string)"
   ]
  },
  {
   "cell_type": "code",
   "execution_count": 56,
   "metadata": {},
   "outputs": [
    {
     "name": "stdout",
     "output_type": "stream",
     "text": [
      "아보카도\n"
     ]
    }
   ],
   "source": [
    "print(soup.find(id=\"vegetable-list\")\n",
    "          .find(\"li\",cond).string)"
   ]
  },
  {
   "cell_type": "code",
   "execution_count": 67,
   "metadata": {},
   "outputs": [],
   "source": [
    "fp = open(\"sell-items.html\", encoding=\"utf-8\")\n",
    "soup2 = BeautifulSoup(fp, \"html.parser\")"
   ]
  },
  {
   "cell_type": "code",
   "execution_count": 71,
   "metadata": {},
   "outputs": [
    {
     "data": {
      "text/plain": [
       "[<span class=\"price\"> 3000원 </span>,\n",
       " <span class=\"price\"> 2000원 </span>,\n",
       " <span class=\"price\"> 5000원 </span>]"
      ]
     },
     "execution_count": 71,
     "metadata": {},
     "output_type": "execute_result"
    }
   ],
   "source": [
    "#soup2.select('p')\n",
    "soup2.select('.price')\n",
    "#soup2.select('span.price')\n",
    "#soup2.select('#fruits2')\n",
    "#soup2.select('p > span')\n",
    "#soup2.select('p span')\n",
    "#soup2.select('p.name > span.price')\n",
    "#soup2.select('h1 .name > span.store')\n",
    "#soup2.select(\"a[href='http://test1']\")\n",
    "#soup2.select('p > span.price')[0].text"
   ]
  },
  {
   "cell_type": "code",
   "execution_count": 72,
   "metadata": {},
   "outputs": [
    {
     "name": "stdout",
     "output_type": "stream",
     "text": [
      " 3000원 \n",
      " 2000원 \n",
      " 5000원 \n"
     ]
    },
    {
     "data": {
      "text/plain": [
       "'http://test1'"
      ]
     },
     "execution_count": 72,
     "metadata": {},
     "output_type": "execute_result"
    }
   ],
   "source": [
    "prices = soup2.select('p > span.price')\n",
    "for price in prices:       \n",
    "    print(price.text)\n",
    "soup2.select('a')[0]['href']"
   ]
  },
  {
   "cell_type": "code",
   "execution_count": null,
   "metadata": {},
   "outputs": [],
   "source": []
  }
 ],
 "metadata": {
  "kernelspec": {
   "display_name": "Python 3",
   "language": "python",
   "name": "python3"
  },
  "language_info": {
   "codemirror_mode": {
    "name": "ipython",
    "version": 3
   },
   "file_extension": ".py",
   "mimetype": "text/x-python",
   "name": "python",
   "nbconvert_exporter": "python",
   "pygments_lexer": "ipython3",
   "version": "3.7.6"
  }
 },
 "nbformat": 4,
 "nbformat_minor": 2
}
