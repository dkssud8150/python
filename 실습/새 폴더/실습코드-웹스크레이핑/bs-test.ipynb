{
 "cells": [
  {
   "cell_type": "code",
   "execution_count": 1,
   "metadata": {},
   "outputs": [],
   "source": [
    "from bs4 import BeautifulSoup"
   ]
  },
  {
   "cell_type": "code",
   "execution_count": 32,
   "metadata": {},
   "outputs": [],
   "source": [
    "html = '''\n",
    "<html>\n",
    " <body> \n",
    "  <h1 id=\"title\">웹 스크레이핑이란?</h1>\n",
    "  <p id=\"body\">웹 페이지 분석을 통해</p>\n",
    "  <p id=\"body\">원하는 내용을 끄집어 냄</p>\n",
    " </body>\n",
    "</html>\n",
    "'''"
   ]
  },
  {
   "cell_type": "code",
   "execution_count": 22,
   "metadata": {},
   "outputs": [],
   "source": [
    "html2 = '''\n",
    "<html><body>\n",
    "  <ul>\n",
    "    <li><a href=\"http://www.naver.com\">naver</a></li>\n",
    "    <li><a href=\"http://www.daum.net\">daum</a></li>\n",
    "  </ul>\n",
    "</body></html>\n",
    "'''"
   ]
  },
  {
   "cell_type": "code",
   "execution_count": 33,
   "metadata": {},
   "outputs": [],
   "source": [
    "soup = BeautifulSoup(html, 'html.parser')   # 파서 종류 지정\n",
    "soup2 = BeautifulSoup(html2, 'html.parser')"
   ]
  },
  {
   "cell_type": "code",
   "execution_count": 24,
   "metadata": {},
   "outputs": [],
   "source": [
    "h1 = soup.html.body.h1\n",
    "\n",
    "p1 = soup.html.body.p\n",
    "p2 = p1.next_sibling\n",
    "p22 = p2.next_sibling"
   ]
  },
  {
   "cell_type": "code",
   "execution_count": 26,
   "metadata": {
    "scrolled": true
   },
   "outputs": [
    {
     "name": "stdout",
     "output_type": "stream",
     "text": [
      "h1 = 웹 스크레이핑이란?\n",
      "p1 = 웹 페이지 분석을 통해\n",
      "p22 = 원하는 내용을 끄집어 냄\n"
     ]
    }
   ],
   "source": [
    "print(\"h1 = \" + h1.string)\n",
    "print(\"p1 = \" + p1.string)\n",
    "#print(\"p2 = \" + p2.string)\n",
    "print(\"p22 = \" + p22.string)"
   ]
  },
  {
   "cell_type": "code",
   "execution_count": 34,
   "metadata": {},
   "outputs": [
    {
     "name": "stdout",
     "output_type": "stream",
     "text": [
      "#title = 웹 스크레이핑이란?\n",
      "#body = 웹 페이지 분석을 통해\n",
      "#body = 원하는 내용을 끄집어 냄\n"
     ]
    }
   ],
   "source": [
    "title = soup.find(id=\"title\")\n",
    "body = soup.find_all(id=\"body\")\n",
    "#body2 = soup.find(id=\"another\")\n",
    "\n",
    "print(\"#title = \" + title.string)\n",
    "\n",
    "for b in body:\n",
    "    print(\"#body = \" + b.string)\n",
    "#print(\"#another = \" + body2.string)"
   ]
  },
  {
   "cell_type": "code",
   "execution_count": 31,
   "metadata": {},
   "outputs": [
    {
     "name": "stdout",
     "output_type": "stream",
     "text": [
      "naver > http://www.naver.com\n",
      "daum > http://www.daum.net\n"
     ]
    }
   ],
   "source": [
    "links = soup2.find_all(\"a\")\n",
    "\n",
    "for a in links:\n",
    "    href = a.attrs['href']\n",
    "    text = a.string\n",
    "    print(text, \">\", href)"
   ]
  },
  {
   "cell_type": "code",
   "execution_count": null,
   "metadata": {},
   "outputs": [],
   "source": []
  }
 ],
 "metadata": {
  "kernelspec": {
   "display_name": "Python 3",
   "language": "python",
   "name": "python3"
  },
  "language_info": {
   "codemirror_mode": {
    "name": "ipython",
    "version": 3
   },
   "file_extension": ".py",
   "mimetype": "text/x-python",
   "name": "python",
   "nbconvert_exporter": "python",
   "pygments_lexer": "ipython3",
   "version": "3.7.6"
  }
 },
 "nbformat": 4,
 "nbformat_minor": 2
}
