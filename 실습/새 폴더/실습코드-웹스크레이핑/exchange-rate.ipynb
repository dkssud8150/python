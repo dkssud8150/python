{
 "cells": [
  {
   "cell_type": "code",
   "execution_count": 1,
   "metadata": {},
   "outputs": [],
   "source": [
    "from bs4 import BeautifulSoup\n",
    "import urllib.request as req"
   ]
  },
  {
   "cell_type": "code",
   "execution_count": 2,
   "metadata": {},
   "outputs": [],
   "source": [
    "url = \"http://finance.naver.com/marketindex/\"\n",
    "res = req.urlopen(url)\n",
    "\n",
    "soup = BeautifulSoup(res, \"html.parser\")"
   ]
  },
  {
   "cell_type": "code",
   "execution_count": 3,
   "metadata": {},
   "outputs": [
    {
     "name": "stdout",
     "output_type": "stream",
     "text": [
      "달러: 1,194.60\n",
      "엔: 1,137.12\n",
      "유로: 1,401.56\n"
     ]
    }
   ],
   "source": [
    "#prices = soup.select_one(\"div.head_info > span.value\").string\n",
    "#prices = soup.select(\"div.head_info > span.value\")\n",
    "prices = soup.select(\"span.value\")\n",
    "\n",
    "print(\"달러: \" + prices[0].string)\n",
    "print(\"엔: \" + prices[1].string)\n",
    "print(\"유로: \" + prices[2].string)"
   ]
  },
  {
   "cell_type": "code",
   "execution_count": 5,
   "metadata": {},
   "outputs": [
    {
     "name": "stdout",
     "output_type": "stream",
     "text": [
      "<span class=\"value\">1,194.60</span> 원\n",
      "<span class=\"value\">1,137.12</span> 원\n",
      "<span class=\"value\">1,401.56</span> 원\n",
      "<span class=\"value\">170.59</span> 원\n",
      "<span class=\"value\">104.9600</span> 원\n",
      "<span class=\"value\">1.1726</span> 원\n",
      "<span class=\"value\">1.2943</span> 원\n",
      "<span class=\"value\">93.6400</span> 원\n",
      "<span class=\"value\">41.04</span> 원\n",
      "<span class=\"value\">1361.09</span> 원\n",
      "<span class=\"value\">1944.6</span> 원\n",
      "<span class=\"value\">75009.29</span> 원\n"
     ]
    }
   ],
   "source": [
    "for price in prices:\n",
    "    print(price, \"원\")"
   ]
  }
 ],
 "metadata": {
  "kernelspec": {
   "display_name": "Python 3",
   "language": "python",
   "name": "python3"
  },
  "language_info": {
   "codemirror_mode": {
    "name": "ipython",
    "version": 3
   },
   "file_extension": ".py",
   "mimetype": "text/x-python",
   "name": "python",
   "nbconvert_exporter": "python",
   "pygments_lexer": "ipython3",
   "version": "3.7.6"
  }
 },
 "nbformat": 4,
 "nbformat_minor": 2
}
