{
 "cells": [
  {
   "cell_type": "code",
   "execution_count": 1,
   "metadata": {},
   "outputs": [],
   "source": [
    "from bs4 import BeautifulSoup"
   ]
  },
  {
   "cell_type": "code",
   "execution_count": 51,
   "metadata": {},
   "outputs": [],
   "source": [
    "html = \"\"\"\n",
    "<html><body>\n",
    "<div id=\"meigen\">\n",
    " <ul id=\"bible\">\n",
    "  <li id=\"ge\">Genesis(창세기)</li>\n",
    "  <li id=\"ex\">Exodus(출애굽기)</li>\n",
    "  <li id=\"le\">Leviticus(레위기)</li>\n",
    "  <li id=\"nu\">Numbers(민수기)</li>\n",
    "  <li id=\"de\">Deuteronomy(신명기)</li>\n",
    " </ul>\n",
    " </div>\n",
    "</body></html>\n",
    "\"\"\""
   ]
  },
  {
   "cell_type": "code",
   "execution_count": 45,
   "metadata": {},
   "outputs": [],
   "source": [
    "#fp = open('books.html', 'r', encoding='utf-8')\n",
    "#soup = BeautifulSoup(fp, \"html.parser\")"
   ]
  },
  {
   "cell_type": "code",
   "execution_count": 52,
   "metadata": {},
   "outputs": [],
   "source": [
    "soup = BeautifulSoup(html, \"html.parser\")"
   ]
  },
  {
   "cell_type": "code",
   "execution_count": 53,
   "metadata": {},
   "outputs": [],
   "source": [
    "#람다 함수 sel 정의 : 입력 파라미터 - q(1개), 리턴 값 - 없음\n",
    "# 조건 q를 만족하는 문자열을 출력하는 람다 함수 \n",
    "sel = lambda q: print(soup.select_one(q).string)\n",
    "pr = lambda x: print(x)"
   ]
  },
  {
   "cell_type": "code",
   "execution_count": 54,
   "metadata": {},
   "outputs": [
    {
     "name": "stdout",
     "output_type": "stream",
     "text": [
      "Numbers(민수기)\n"
     ]
    }
   ],
   "source": [
    "sel('#nu')\n",
    "#sel('li#nu')\n",
    "#sel('ul > li#nu')\n",
    "#sel('ul li#nu')"
   ]
  },
  {
   "cell_type": "code",
   "execution_count": 49,
   "metadata": {},
   "outputs": [
    {
     "name": "stdout",
     "output_type": "stream",
     "text": [
      "Numbers(민수기)\n"
     ]
    }
   ],
   "source": [
    "sel('#bible > #nu')\n",
    "#sel('#bible #nu')\n",
    "#sel('ul#bible > li#nu')\n",
    "#sel('ul#bible li#nu')"
   ]
  },
  {
   "cell_type": "code",
   "execution_count": 19,
   "metadata": {},
   "outputs": [
    {
     "name": "stdout",
     "output_type": "stream",
     "text": [
      "Numbers(민수기)\n"
     ]
    }
   ],
   "source": [
    "sel(\"li[id='nu']\")\n",
    "#sel(\"li:nth-of-type(4)\")"
   ]
  },
  {
   "cell_type": "code",
   "execution_count": 31,
   "metadata": {},
   "outputs": [
    {
     "name": "stdout",
     "output_type": "stream",
     "text": [
      "Numbers(민수기)\n"
     ]
    }
   ],
   "source": [
    "#pr(soup.select(\"li\"))\n",
    "#pr(soup.select(\"li\")[3])\n",
    "pr(soup.select(\"li\")[3].string)"
   ]
  },
  {
   "cell_type": "code",
   "execution_count": 34,
   "metadata": {},
   "outputs": [
    {
     "name": "stdout",
     "output_type": "stream",
     "text": [
      "Numbers(민수기)\n"
     ]
    }
   ],
   "source": [
    "#pr(soup.find_all(\"li\"))\n",
    "#pr(soup.find_all(\"li\")[3])\n",
    "pr(soup.find_all(\"li\")[3].string)"
   ]
  },
  {
   "cell_type": "code",
   "execution_count": 37,
   "metadata": {},
   "outputs": [
    {
     "name": "stdout",
     "output_type": "stream",
     "text": [
      "히브리어 성경 1 번째 책 Genesis(창세기)\n",
      "히브리어 성경 2 번째 책 Exodus(출애굽기)\n",
      "히브리어 성경 3 번째 책 Leviticus(레위기)\n",
      "히브리어 성경 4 번째 책 Numbers(민수기)\n",
      "히브리어 성경 5 번째 책 Deuteronomy(신명기)\n"
     ]
    }
   ],
   "source": [
    "bib_list = soup.find_all(\"li\")\n",
    "for i, bib in enumerate(bib_list):\n",
    "    print('히브리어 성경', i+1, '번째 책', bib.string)"
   ]
  },
  {
   "cell_type": "code",
   "execution_count": 65,
   "metadata": {},
   "outputs": [],
   "source": [
    "html2 = \"\"\"\n",
    "<html>\n",
    "<body>\n",
    "<div id=\"nlpbooks\">\n",
    "  <h1>자연어처리 관련 도서</h1>\n",
    "  <ul class=\"items\">\n",
    "    <li>머신러닝, 딥러닝 실전개발 입문</li>\n",
    "    <li>Natural Language Processing in Action</li>\n",
    "    <li>Applied Text Analysis with Python</li>\n",
    "    <li>자연어처리 딥러닝 캠프</li>\n",
    "  </ul>\n",
    "</div>\n",
    "</body>\n",
    "</html>\n",
    "\"\"\""
   ]
  },
  {
   "cell_type": "code",
   "execution_count": 66,
   "metadata": {},
   "outputs": [],
   "source": [
    "soup2 =  BeautifulSoup(html2, 'html.parser')"
   ]
  },
  {
   "cell_type": "code",
   "execution_count": 67,
   "metadata": {},
   "outputs": [
    {
     "name": "stdout",
     "output_type": "stream",
     "text": [
      "<h1>자연어처리 관련 도서</h1>\n"
     ]
    }
   ],
   "source": [
    "tag = soup2.select_one(\"div#nlpbooks > h1\")\n",
    "pr(tag)"
   ]
  },
  {
   "cell_type": "code",
   "execution_count": 71,
   "metadata": {},
   "outputs": [
    {
     "name": "stdout",
     "output_type": "stream",
     "text": [
      "1 번째 도서= 머신러닝, 딥러닝 실전개발 입문\n",
      "2 번째 도서= Natural Language Processing in Action\n",
      "3 번째 도서= Applied Text Analysis with Python\n",
      "4 번째 도서= 자연어처리 딥러닝 캠프\n"
     ]
    }
   ],
   "source": [
    "li_list = soup2.select(\"div#nlpbooks > ul.items > li\")\n",
    "for i, li in enumerate(li_list):\n",
    "    print(i+1, '번째 도서=', li.string)"
   ]
  }
 ],
 "metadata": {
  "kernelspec": {
   "display_name": "Python 3",
   "language": "python",
   "name": "python3"
  },
  "language_info": {
   "codemirror_mode": {
    "name": "ipython",
    "version": 3
   },
   "file_extension": ".py",
   "mimetype": "text/x-python",
   "name": "python",
   "nbconvert_exporter": "python",
   "pygments_lexer": "ipython3",
   "version": "3.7.6"
  }
 },
 "nbformat": 4,
 "nbformat_minor": 2
}
