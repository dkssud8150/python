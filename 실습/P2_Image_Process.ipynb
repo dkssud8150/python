{
 "cells": [
  {
   "cell_type": "code",
   "execution_count": 1,
   "metadata": {},
   "outputs": [
    {
     "data": {
      "text/plain": [
       "-1"
      ]
     },
     "execution_count": 1,
     "metadata": {},
     "output_type": "execute_result"
    }
   ],
   "source": [
    "#!/usr/bin/env python3\n",
    "# -*- coding: utf-8 -*-\n",
    "\"\"\"\n",
    "Created on Thu Aug  6 17:44:05 2020\n",
    "\n",
    "@author: navin\n",
    "\"\"\"\n",
    "\n",
    "import numpy as np\n",
    "import os \n",
    "import cv2\n",
    "import matplotlib.pyplot as plt\n",
    "\n",
    "#Boudary Value Defined \n",
    "lower_r = np.array([0,0,249]).astype('uint8')          # 적색의 낮은 수치\n",
    "lower_g = np.array([57, 190, 14]).astype('uint8')      # 녹색의 낮은 수치\n",
    "lower_y = np.array([0, 198, 255]).astype('uint8')      # 황색의 낮은 수치\n",
    "\n",
    "upper_r = np.array([128,128,252]).astype('uint8')      # 적생의 높은 수치\n",
    "upper_g = np.array([107, 206, 74]).astype('uint8')     # 녹색의 높은 수치\n",
    "upper_y = np.array([128, 227, 255]).astype('uint8')    # 황색의 높은 수치\n",
    "#%%\n",
    "\n",
    "input_img = cv2.imread('P2_Input_Image.png')           # 이미지 인식\n",
    "\n",
    "mask_r = cv2.inRange(input_img, lower_r, upper_r)                    # 적색 여부 검출(마스크)\n",
    "output_r = cv2.bitwise_and(input_img, input_img, mask = mask_r)      # 이미지에 적색 마스크 적용\n",
    "\n",
    "mask_g = cv2.inRange(input_img, lower_g, upper_g)                    # 녹색 여부 검출(마스크)\n",
    "output_g = cv2.bitwise_and(input_img, input_img, mask = mask_g)      # 이미지에 녹색 마스크 적용\n",
    "\n",
    "mask_y = cv2.inRange(input_img, lower_y, upper_y)                    # 황색 여부 검출(마스크)\n",
    "output_y = cv2.bitwise_and(input_img, input_img, mask = mask_y)      # 이미지에 황색 여부 검출(마스크)\n",
    "\n",
    "combine_img = cv2.add(output_r, output_g)                            # 적색과 녹색 합침 \n",
    "output_RGY = cv2.add(combine_img, output_y)                          # 황색과 합침\n",
    "cv2.imshow('o', output_RGY)                                          # 결과를 새 창 'o'에 도시\n",
    "cv2.waitKey(0)                                                       # 창을 닫기 전까지 유지\n",
    "#%%\n"
   ]
  },
  {
   "cell_type": "code",
   "execution_count": null,
   "metadata": {},
   "outputs": [],
   "source": []
  }
 ],
 "metadata": {
  "kernelspec": {
   "display_name": "Python 3",
   "language": "python",
   "name": "python3"
  },
  "language_info": {
   "codemirror_mode": {
    "name": "ipython",
    "version": 3
   },
   "file_extension": ".py",
   "mimetype": "text/x-python",
   "name": "python",
   "nbconvert_exporter": "python",
   "pygments_lexer": "ipython3",
   "version": "3.8.3"
  }
 },
 "nbformat": 4,
 "nbformat_minor": 4
}
